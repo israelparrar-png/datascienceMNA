{
  "cells": [
    {
      "cell_type": "markdown",
      "metadata": {
        "id": "0v5lZjzQZTms"
      },
      "source": [
        "**MAESTRÍA EN INTELIGENCIA ARTIFICIAL APLICADA**\n",
        "\n",
        "**Curso: TC5053 - Ciencia y analítica de datos**\n",
        "\n",
        "Tecnológico de Monterrey\n",
        "\n",
        "Prof Grettel Barceló Alonso\n",
        "\n",
        "**Semana 5**\n",
        "Preprocesamiento de datos\n",
        "\n",
        "---"
      ]
    },
    {
      "cell_type": "markdown",
      "source": [
        "*   NOMBRE: ISRAEL PARRA RANGEL\n",
        "*   MATRÍCULA: A01797735"
      ],
      "metadata": {
        "id": "HfLoXtuKuCug"
      }
    },
    {
      "cell_type": "markdown",
      "source": [
        "En esta actividad trabajarás con el archivo `heart_disease.csv`, basado en un conjunto de datos sobre pacientes y variables clínicas relacionadas con enfermedades cardíacas, disponible en Kaggle.\n",
        "\n",
        "Los datos fueron recopilados para analizar la presencia de enfermedades cardíacas en los pacientes y contienen información demográfica, clínica y resultados de pruebas diagnósticas. Los indicadores incluidos son:\n",
        "\n",
        "* `id`: Identificador único de cada paciente\n",
        "* `age`: Edad del paciente en años\n",
        "* `origin`: Lugar de estudio\n",
        "* `sex`: Masculino / Femenino\n",
        "* `cp`: Tipo de dolor torácico (angina típica, angina atípica, no anginal, asintomático)\n",
        "* `trestbps`: Presión arterial en reposo (en mm Hg al ingreso al hospital)\n",
        "* `chol`: Colesterol sérico en mg/dl\n",
        "* `fbs`: Si el azúcar en ayunas > 120 mg/dl\n",
        "* `restecg`: Resultados del electrocardiograma en reposo (normal, anomalía ST-T, hipertrofia ventricular izquierda)\n",
        "* `thalach`: Frecuencia cardíaca máxima alcanzada\n",
        "* `exang`: Angina inducida por ejercicio (Verdadero / Falso)\n",
        "* `oldpeak`: Depresión del segmento ST inducida por ejercicio respecto al reposo\n",
        "* `slope`: Pendiente del segmento ST en el pico de ejercicio\n",
        "* `ca`: Número de vasos principales coloreados por fluoroscopía (0 - 3)\n",
        "* `thal`: Resultado de la prueba de perfusión cardíaca (normal, defecto fijo, defecto reversible)\n",
        "* `num`: Indica si el paciente tiene o no enfermedad cardíaca, o el grado de enfermedad (0 = sano, 1 - 4 = enfermedad) Es la variable de salida o *target*, es decir, la que se pretende predecir más adelante al construir el modelo.\n",
        "\n",
        "**NOTA IMPORTANTE:** Asegúrate de responder *explícitamente* todos los cuestionamientos."
      ],
      "metadata": {
        "id": "JRao8Is3dxEM"
      }
    },
    {
      "cell_type": "code",
      "source": [
        "# Importar las bibliotecas necesarias\n",
        "import pandas as pd\n",
        "import matplotlib.pyplot as plt\n",
        "import numpy as np\n",
        "import seaborn as sns\n",
        "from sklearn.impute import SimpleImputer"
      ],
      "metadata": {
        "id": "MtzIt8W1d1h3"
      },
      "execution_count": 7,
      "outputs": []
    },
    {
      "cell_type": "markdown",
      "source": [
        "1. Descarga el archivo: `heart_disease.csv` y guarda, en un dataframe (`cardio_df`), todos sus registros.\n",
        "* Haz que la columna `id` sea el índice del dataframe.\n",
        "* Utiliza el método `info()` del dataframe, para obtener el resumen de los tipos de datos. ¿Cuántas columnas son numéricas y cuántas de texto?\n",
        "* Determina la cantidad de valores únicos por columna."
      ],
      "metadata": {
        "id": "It9c4B8dd_GI"
      }
    },
    {
      "cell_type": "code",
      "source": [
        "#Hacer que la columna id sea el índice del df\n",
        "cardio_df = pd.read_csv('heart_disease.csv', index_col='id')\n",
        "cardio_df.info()\n",
        "\n",
        "print(\"\\nValores únicos por columna:\")\n",
        "print(cardio_df.nunique())\n",
        "\n",
        "# Determino el numero de columnas numericas y de texto\n",
        "numerical_cols = cardio_df.select_dtypes(include=np.number).shape[1]\n",
        "text_cols = cardio_df.select_dtypes(include='object').shape[1]\n",
        "\n",
        "print(f\"\\nNúmero de columnas numéricas: {numerical_cols}\")\n",
        "print(f\"Número de columnas de texto: {text_cols}\")\n",
        "\n",
        "#Número de columnas numéricas: 7 - Número de columnas de texto: 8\n",
        "#Valores únicos por columna:\n",
        "#age          50\n",
        "#sex           2\n",
        "#origin        4\n",
        "#cp            4\n",
        "#trestbps     60\n",
        "#chol        216\n",
        "#fbs           2\n",
        "#restecg       3\n",
        "#thalch      119\n",
        "#exang         2\n",
        "#oldpeak      53\n",
        "#slope         3\n",
        "#ca            4\n",
        "#thal          3\n",
        "#num           5\n"
      ],
      "metadata": {
        "id": "h2n8WF6LWZeg",
        "colab": {
          "base_uri": "https://localhost:8080/"
        },
        "outputId": "9992e180-b305-45dd-d411-45f82157fab5"
      },
      "execution_count": 8,
      "outputs": [
        {
          "output_type": "stream",
          "name": "stdout",
          "text": [
            "<class 'pandas.core.frame.DataFrame'>\n",
            "Index: 918 entries, 1 to 920\n",
            "Data columns (total 15 columns):\n",
            " #   Column    Non-Null Count  Dtype  \n",
            "---  ------    --------------  -----  \n",
            " 0   age       918 non-null    int64  \n",
            " 1   sex       918 non-null    object \n",
            " 2   origin    918 non-null    object \n",
            " 3   cp        918 non-null    object \n",
            " 4   trestbps  859 non-null    float64\n",
            " 5   chol      888 non-null    float64\n",
            " 6   fbs       829 non-null    object \n",
            " 7   restecg   918 non-null    object \n",
            " 8   thalch    863 non-null    float64\n",
            " 9   exang     863 non-null    object \n",
            " 10  oldpeak   856 non-null    float64\n",
            " 11  slope     610 non-null    object \n",
            " 12  ca        309 non-null    float64\n",
            " 13  thal      434 non-null    object \n",
            " 14  num       918 non-null    int64  \n",
            "dtypes: float64(5), int64(2), object(8)\n",
            "memory usage: 114.8+ KB\n",
            "\n",
            "Valores únicos por columna:\n",
            "age          50\n",
            "sex           2\n",
            "origin        4\n",
            "cp            4\n",
            "trestbps     60\n",
            "chol        216\n",
            "fbs           2\n",
            "restecg       3\n",
            "thalch      119\n",
            "exang         2\n",
            "oldpeak      53\n",
            "slope         3\n",
            "ca            4\n",
            "thal          3\n",
            "num           5\n",
            "dtype: int64\n",
            "\n",
            "Número de columnas numéricas: 7\n",
            "Número de columnas de texto: 8\n"
          ]
        }
      ]
    },
    {
      "cell_type": "markdown",
      "source": [
        "2. Examina las variables numéricas que presentan pocos valores únicos, ya que esto puede indicar que en realidad se tratan de variables categóricas codificadas como números.\n",
        "* Si existen casos de este tipo, conviértelas a categóricas. Antes de hacerlo, revisa sus descripciones para determinar si son ordinales o nominales y, si son ordinales, establece el orden correcto de las categorías."
      ],
      "metadata": {
        "id": "8cnQrm8JyRp0"
      }
    },
    {
      "cell_type": "code",
      "source": [
        "print(\"valores unicos en 'num':\", cardio_df['num'].unique())\n",
        "print(\"cuenta valores 'num':\\n\", cardio_df['num'].value_counts())\n",
        "print(\"\\nUnique valores en 'ca':\", cardio_df['ca'].unique())\n",
        "print(\"cuenta valores para 'ca':\\n\", cardio_df['ca'].value_counts())\n",
        "\n",
        "# num representa el grado de enfermedad cardíaca (0-4), que es ordinal.\n",
        "# ca representa el número de vasos sanguíneos principales (0-3), que también es ordinal\n",
        "\n",
        "cardio_df['num'] = pd.Categorical(cardio_df['num'], categories=[0, 1, 2, 3, 4], ordered=True)\n",
        "cardio_df['ca'] = pd.Categorical(cardio_df['ca'], categories=[0.0, 1.0, 2.0, 3.0], ordered=True)\n",
        "\n",
        "cardio_df.info()"
      ],
      "metadata": {
        "id": "1st62iszWaoL",
        "colab": {
          "base_uri": "https://localhost:8080/"
        },
        "outputId": "8f2af10b-1baf-44fc-ddc6-08fd407c4d97"
      },
      "execution_count": 31,
      "outputs": [
        {
          "output_type": "stream",
          "name": "stdout",
          "text": [
            "valores unicos en 'num': [0, 2, 1, 3, 4]\n",
            "Categories (5, int64): [0 < 1 < 2 < 3 < 4]\n",
            "cuenta valores 'num':\n",
            " num\n",
            "0    411\n",
            "1    263\n",
            "2    109\n",
            "3    107\n",
            "4     28\n",
            "Name: count, dtype: int64\n",
            "\n",
            "Unique valores en 'ca': [0.0, 3.0, 2.0, 1.0, NaN]\n",
            "Categories (4, float64): [0.0 < 1.0 < 2.0 < 3.0]\n",
            "cuenta valores para 'ca':\n",
            " ca\n",
            "0.0    181\n",
            "1.0     67\n",
            "2.0     41\n",
            "3.0     20\n",
            "Name: count, dtype: int64\n",
            "<class 'pandas.core.frame.DataFrame'>\n",
            "Index: 918 entries, 1 to 920\n",
            "Data columns (total 15 columns):\n",
            " #   Column    Non-Null Count  Dtype   \n",
            "---  ------    --------------  -----   \n",
            " 0   age       918 non-null    int64   \n",
            " 1   sex       918 non-null    object  \n",
            " 2   origin    918 non-null    object  \n",
            " 3   cp        918 non-null    object  \n",
            " 4   trestbps  859 non-null    float64 \n",
            " 5   chol      888 non-null    float64 \n",
            " 6   fbs       829 non-null    object  \n",
            " 7   restecg   918 non-null    object  \n",
            " 8   thalch    863 non-null    float64 \n",
            " 9   exang     863 non-null    object  \n",
            " 10  oldpeak   856 non-null    float64 \n",
            " 11  slope     610 non-null    object  \n",
            " 12  ca        309 non-null    category\n",
            " 13  thal      434 non-null    object  \n",
            " 14  num       918 non-null    category\n",
            "dtypes: category(2), float64(4), int64(1), object(8)\n",
            "memory usage: 102.6+ KB\n"
          ]
        }
      ]
    },
    {
      "cell_type": "markdown",
      "source": [
        "3. Obtén las estadísticas descriptivas de las variables, realizando el análisis por separado para las variables numéricas y las categóricas.\n",
        "* Para las numéricas, incluye el sesgo y la curtosis.\n",
        "* Para las categóricas, imprime además las tablas de frecuencia."
      ],
      "metadata": {
        "id": "PdzT9XFrVOo7"
      }
    },
    {
      "cell_type": "code",
      "source": [
        "numerical_summary = cardio_df.select_dtypes(include=np.number).agg(['count', 'mean', 'std', 'min', 'max', 'skew', 'kurtosis']).transpose()\n",
        "print(\"Estadisticas descriptivas para las variables numericas:\")\n",
        "display(numerical_summary)\n",
        "\n",
        "# Obtener estadistica descriptiva para variables categoricas\n",
        "categorical_cols = cardio_df.select_dtypes(include='object').columns\n",
        "print(\"\\nEstdistica descriptiva y tablas de frecuencias:\")\n",
        "for col in categorical_cols:\n",
        "    print(f\"\\nColumna: {col}\")\n",
        "    display(cardio_df[col].describe())\n",
        "    print(f\"Frecuencia {col}:\")\n",
        "    display(cardio_df[col].value_counts())\n",
        "\n",
        "categorical_cols_converted = cardio_df.select_dtypes(include='category').columns\n",
        "print(\"\\nEstadistica descriptiva y tablas de frecuencia convertidas a variables categoricas:\")\n",
        "for col in categorical_cols_converted:\n",
        "    print(f\"\\nColumna: {col}\")\n",
        "    display(cardio_df[col].describe())\n",
        "    print(f\"Tabla frecuencia {col}:\")\n",
        "    display(cardio_df[col].value_counts())"
      ],
      "metadata": {
        "id": "VcMaLFpDWbt-",
        "colab": {
          "base_uri": "https://localhost:8080/",
          "height": 1000
        },
        "outputId": "ea99d485-2f8c-4f94-f70a-3ea1f3e5b656"
      },
      "execution_count": 10,
      "outputs": [
        {
          "output_type": "stream",
          "name": "stdout",
          "text": [
            "Estadisticas descriptivas para las variables numericas:\n"
          ]
        },
        {
          "output_type": "display_data",
          "data": {
            "text/plain": [
              "          count        mean        std   min    max      skew  kurtosis\n",
              "age       918.0   53.530501   9.412783  28.0   77.0 -0.193710 -0.382511\n",
              "trestbps  859.0  132.294529  18.535875  80.0  200.0  0.630411  0.632992\n",
              "chol      888.0  242.189189  53.424806  85.0  603.0  1.640672  6.573848\n",
              "thalch    863.0  137.528389  25.950226  60.0  202.0 -0.209319 -0.483939\n",
              "oldpeak   856.0    0.880607   1.091840  -2.6    6.2  1.037990  1.119834"
            ],
            "text/html": [
              "\n",
              "  <div id=\"df-fe2cf3d2-d78f-48e4-aff2-9ed0c43f7e09\" class=\"colab-df-container\">\n",
              "    <div>\n",
              "<style scoped>\n",
              "    .dataframe tbody tr th:only-of-type {\n",
              "        vertical-align: middle;\n",
              "    }\n",
              "\n",
              "    .dataframe tbody tr th {\n",
              "        vertical-align: top;\n",
              "    }\n",
              "\n",
              "    .dataframe thead th {\n",
              "        text-align: right;\n",
              "    }\n",
              "</style>\n",
              "<table border=\"1\" class=\"dataframe\">\n",
              "  <thead>\n",
              "    <tr style=\"text-align: right;\">\n",
              "      <th></th>\n",
              "      <th>count</th>\n",
              "      <th>mean</th>\n",
              "      <th>std</th>\n",
              "      <th>min</th>\n",
              "      <th>max</th>\n",
              "      <th>skew</th>\n",
              "      <th>kurtosis</th>\n",
              "    </tr>\n",
              "  </thead>\n",
              "  <tbody>\n",
              "    <tr>\n",
              "      <th>age</th>\n",
              "      <td>918.0</td>\n",
              "      <td>53.530501</td>\n",
              "      <td>9.412783</td>\n",
              "      <td>28.0</td>\n",
              "      <td>77.0</td>\n",
              "      <td>-0.193710</td>\n",
              "      <td>-0.382511</td>\n",
              "    </tr>\n",
              "    <tr>\n",
              "      <th>trestbps</th>\n",
              "      <td>859.0</td>\n",
              "      <td>132.294529</td>\n",
              "      <td>18.535875</td>\n",
              "      <td>80.0</td>\n",
              "      <td>200.0</td>\n",
              "      <td>0.630411</td>\n",
              "      <td>0.632992</td>\n",
              "    </tr>\n",
              "    <tr>\n",
              "      <th>chol</th>\n",
              "      <td>888.0</td>\n",
              "      <td>242.189189</td>\n",
              "      <td>53.424806</td>\n",
              "      <td>85.0</td>\n",
              "      <td>603.0</td>\n",
              "      <td>1.640672</td>\n",
              "      <td>6.573848</td>\n",
              "    </tr>\n",
              "    <tr>\n",
              "      <th>thalch</th>\n",
              "      <td>863.0</td>\n",
              "      <td>137.528389</td>\n",
              "      <td>25.950226</td>\n",
              "      <td>60.0</td>\n",
              "      <td>202.0</td>\n",
              "      <td>-0.209319</td>\n",
              "      <td>-0.483939</td>\n",
              "    </tr>\n",
              "    <tr>\n",
              "      <th>oldpeak</th>\n",
              "      <td>856.0</td>\n",
              "      <td>0.880607</td>\n",
              "      <td>1.091840</td>\n",
              "      <td>-2.6</td>\n",
              "      <td>6.2</td>\n",
              "      <td>1.037990</td>\n",
              "      <td>1.119834</td>\n",
              "    </tr>\n",
              "  </tbody>\n",
              "</table>\n",
              "</div>\n",
              "    <div class=\"colab-df-buttons\">\n",
              "\n",
              "  <div class=\"colab-df-container\">\n",
              "    <button class=\"colab-df-convert\" onclick=\"convertToInteractive('df-fe2cf3d2-d78f-48e4-aff2-9ed0c43f7e09')\"\n",
              "            title=\"Convert this dataframe to an interactive table.\"\n",
              "            style=\"display:none;\">\n",
              "\n",
              "  <svg xmlns=\"http://www.w3.org/2000/svg\" height=\"24px\" viewBox=\"0 -960 960 960\">\n",
              "    <path d=\"M120-120v-720h720v720H120Zm60-500h600v-160H180v160Zm220 220h160v-160H400v160Zm0 220h160v-160H400v160ZM180-400h160v-160H180v160Zm440 0h160v-160H620v160ZM180-180h160v-160H180v160Zm440 0h160v-160H620v160Z\"/>\n",
              "  </svg>\n",
              "    </button>\n",
              "\n",
              "  <style>\n",
              "    .colab-df-container {\n",
              "      display:flex;\n",
              "      gap: 12px;\n",
              "    }\n",
              "\n",
              "    .colab-df-convert {\n",
              "      background-color: #E8F0FE;\n",
              "      border: none;\n",
              "      border-radius: 50%;\n",
              "      cursor: pointer;\n",
              "      display: none;\n",
              "      fill: #1967D2;\n",
              "      height: 32px;\n",
              "      padding: 0 0 0 0;\n",
              "      width: 32px;\n",
              "    }\n",
              "\n",
              "    .colab-df-convert:hover {\n",
              "      background-color: #E2EBFA;\n",
              "      box-shadow: 0px 1px 2px rgba(60, 64, 67, 0.3), 0px 1px 3px 1px rgba(60, 64, 67, 0.15);\n",
              "      fill: #174EA6;\n",
              "    }\n",
              "\n",
              "    .colab-df-buttons div {\n",
              "      margin-bottom: 4px;\n",
              "    }\n",
              "\n",
              "    [theme=dark] .colab-df-convert {\n",
              "      background-color: #3B4455;\n",
              "      fill: #D2E3FC;\n",
              "    }\n",
              "\n",
              "    [theme=dark] .colab-df-convert:hover {\n",
              "      background-color: #434B5C;\n",
              "      box-shadow: 0px 1px 3px 1px rgba(0, 0, 0, 0.15);\n",
              "      filter: drop-shadow(0px 1px 2px rgba(0, 0, 0, 0.3));\n",
              "      fill: #FFFFFF;\n",
              "    }\n",
              "  </style>\n",
              "\n",
              "    <script>\n",
              "      const buttonEl =\n",
              "        document.querySelector('#df-fe2cf3d2-d78f-48e4-aff2-9ed0c43f7e09 button.colab-df-convert');\n",
              "      buttonEl.style.display =\n",
              "        google.colab.kernel.accessAllowed ? 'block' : 'none';\n",
              "\n",
              "      async function convertToInteractive(key) {\n",
              "        const element = document.querySelector('#df-fe2cf3d2-d78f-48e4-aff2-9ed0c43f7e09');\n",
              "        const dataTable =\n",
              "          await google.colab.kernel.invokeFunction('convertToInteractive',\n",
              "                                                    [key], {});\n",
              "        if (!dataTable) return;\n",
              "\n",
              "        const docLinkHtml = 'Like what you see? Visit the ' +\n",
              "          '<a target=\"_blank\" href=https://colab.research.google.com/notebooks/data_table.ipynb>data table notebook</a>'\n",
              "          + ' to learn more about interactive tables.';\n",
              "        element.innerHTML = '';\n",
              "        dataTable['output_type'] = 'display_data';\n",
              "        await google.colab.output.renderOutput(dataTable, element);\n",
              "        const docLink = document.createElement('div');\n",
              "        docLink.innerHTML = docLinkHtml;\n",
              "        element.appendChild(docLink);\n",
              "      }\n",
              "    </script>\n",
              "  </div>\n",
              "\n",
              "\n",
              "    <div id=\"df-7c1be128-2347-4909-aafd-04fc0e18ea97\">\n",
              "      <button class=\"colab-df-quickchart\" onclick=\"quickchart('df-7c1be128-2347-4909-aafd-04fc0e18ea97')\"\n",
              "                title=\"Suggest charts\"\n",
              "                style=\"display:none;\">\n",
              "\n",
              "<svg xmlns=\"http://www.w3.org/2000/svg\" height=\"24px\"viewBox=\"0 0 24 24\"\n",
              "     width=\"24px\">\n",
              "    <g>\n",
              "        <path d=\"M19 3H5c-1.1 0-2 .9-2 2v14c0 1.1.9 2 2 2h14c1.1 0 2-.9 2-2V5c0-1.1-.9-2-2-2zM9 17H7v-7h2v7zm4 0h-2V7h2v10zm4 0h-2v-4h2v4z\"/>\n",
              "    </g>\n",
              "</svg>\n",
              "      </button>\n",
              "\n",
              "<style>\n",
              "  .colab-df-quickchart {\n",
              "      --bg-color: #E8F0FE;\n",
              "      --fill-color: #1967D2;\n",
              "      --hover-bg-color: #E2EBFA;\n",
              "      --hover-fill-color: #174EA6;\n",
              "      --disabled-fill-color: #AAA;\n",
              "      --disabled-bg-color: #DDD;\n",
              "  }\n",
              "\n",
              "  [theme=dark] .colab-df-quickchart {\n",
              "      --bg-color: #3B4455;\n",
              "      --fill-color: #D2E3FC;\n",
              "      --hover-bg-color: #434B5C;\n",
              "      --hover-fill-color: #FFFFFF;\n",
              "      --disabled-bg-color: #3B4455;\n",
              "      --disabled-fill-color: #666;\n",
              "  }\n",
              "\n",
              "  .colab-df-quickchart {\n",
              "    background-color: var(--bg-color);\n",
              "    border: none;\n",
              "    border-radius: 50%;\n",
              "    cursor: pointer;\n",
              "    display: none;\n",
              "    fill: var(--fill-color);\n",
              "    height: 32px;\n",
              "    padding: 0;\n",
              "    width: 32px;\n",
              "  }\n",
              "\n",
              "  .colab-df-quickchart:hover {\n",
              "    background-color: var(--hover-bg-color);\n",
              "    box-shadow: 0 1px 2px rgba(60, 64, 67, 0.3), 0 1px 3px 1px rgba(60, 64, 67, 0.15);\n",
              "    fill: var(--button-hover-fill-color);\n",
              "  }\n",
              "\n",
              "  .colab-df-quickchart-complete:disabled,\n",
              "  .colab-df-quickchart-complete:disabled:hover {\n",
              "    background-color: var(--disabled-bg-color);\n",
              "    fill: var(--disabled-fill-color);\n",
              "    box-shadow: none;\n",
              "  }\n",
              "\n",
              "  .colab-df-spinner {\n",
              "    border: 2px solid var(--fill-color);\n",
              "    border-color: transparent;\n",
              "    border-bottom-color: var(--fill-color);\n",
              "    animation:\n",
              "      spin 1s steps(1) infinite;\n",
              "  }\n",
              "\n",
              "  @keyframes spin {\n",
              "    0% {\n",
              "      border-color: transparent;\n",
              "      border-bottom-color: var(--fill-color);\n",
              "      border-left-color: var(--fill-color);\n",
              "    }\n",
              "    20% {\n",
              "      border-color: transparent;\n",
              "      border-left-color: var(--fill-color);\n",
              "      border-top-color: var(--fill-color);\n",
              "    }\n",
              "    30% {\n",
              "      border-color: transparent;\n",
              "      border-left-color: var(--fill-color);\n",
              "      border-top-color: var(--fill-color);\n",
              "      border-right-color: var(--fill-color);\n",
              "    }\n",
              "    40% {\n",
              "      border-color: transparent;\n",
              "      border-right-color: var(--fill-color);\n",
              "      border-top-color: var(--fill-color);\n",
              "    }\n",
              "    60% {\n",
              "      border-color: transparent;\n",
              "      border-right-color: var(--fill-color);\n",
              "    }\n",
              "    80% {\n",
              "      border-color: transparent;\n",
              "      border-right-color: var(--fill-color);\n",
              "      border-bottom-color: var(--fill-color);\n",
              "    }\n",
              "    90% {\n",
              "      border-color: transparent;\n",
              "      border-bottom-color: var(--fill-color);\n",
              "    }\n",
              "  }\n",
              "</style>\n",
              "\n",
              "      <script>\n",
              "        async function quickchart(key) {\n",
              "          const quickchartButtonEl =\n",
              "            document.querySelector('#' + key + ' button');\n",
              "          quickchartButtonEl.disabled = true;  // To prevent multiple clicks.\n",
              "          quickchartButtonEl.classList.add('colab-df-spinner');\n",
              "          try {\n",
              "            const charts = await google.colab.kernel.invokeFunction(\n",
              "                'suggestCharts', [key], {});\n",
              "          } catch (error) {\n",
              "            console.error('Error during call to suggestCharts:', error);\n",
              "          }\n",
              "          quickchartButtonEl.classList.remove('colab-df-spinner');\n",
              "          quickchartButtonEl.classList.add('colab-df-quickchart-complete');\n",
              "        }\n",
              "        (() => {\n",
              "          let quickchartButtonEl =\n",
              "            document.querySelector('#df-7c1be128-2347-4909-aafd-04fc0e18ea97 button');\n",
              "          quickchartButtonEl.style.display =\n",
              "            google.colab.kernel.accessAllowed ? 'block' : 'none';\n",
              "        })();\n",
              "      </script>\n",
              "    </div>\n",
              "\n",
              "  <div id=\"id_5c32705a-3c94-46d3-ba68-636b236c6de8\">\n",
              "    <style>\n",
              "      .colab-df-generate {\n",
              "        background-color: #E8F0FE;\n",
              "        border: none;\n",
              "        border-radius: 50%;\n",
              "        cursor: pointer;\n",
              "        display: none;\n",
              "        fill: #1967D2;\n",
              "        height: 32px;\n",
              "        padding: 0 0 0 0;\n",
              "        width: 32px;\n",
              "      }\n",
              "\n",
              "      .colab-df-generate:hover {\n",
              "        background-color: #E2EBFA;\n",
              "        box-shadow: 0px 1px 2px rgba(60, 64, 67, 0.3), 0px 1px 3px 1px rgba(60, 64, 67, 0.15);\n",
              "        fill: #174EA6;\n",
              "      }\n",
              "\n",
              "      [theme=dark] .colab-df-generate {\n",
              "        background-color: #3B4455;\n",
              "        fill: #D2E3FC;\n",
              "      }\n",
              "\n",
              "      [theme=dark] .colab-df-generate:hover {\n",
              "        background-color: #434B5C;\n",
              "        box-shadow: 0px 1px 3px 1px rgba(0, 0, 0, 0.15);\n",
              "        filter: drop-shadow(0px 1px 2px rgba(0, 0, 0, 0.3));\n",
              "        fill: #FFFFFF;\n",
              "      }\n",
              "    </style>\n",
              "    <button class=\"colab-df-generate\" onclick=\"generateWithVariable('numerical_summary')\"\n",
              "            title=\"Generate code using this dataframe.\"\n",
              "            style=\"display:none;\">\n",
              "\n",
              "  <svg xmlns=\"http://www.w3.org/2000/svg\" height=\"24px\"viewBox=\"0 0 24 24\"\n",
              "       width=\"24px\">\n",
              "    <path d=\"M7,19H8.4L18.45,9,17,7.55,7,17.6ZM5,21V16.75L18.45,3.32a2,2,0,0,1,2.83,0l1.4,1.43a1.91,1.91,0,0,1,.58,1.4,1.91,1.91,0,0,1-.58,1.4L9.25,21ZM18.45,9,17,7.55Zm-12,3A5.31,5.31,0,0,0,4.9,8.1,5.31,5.31,0,0,0,1,6.5,5.31,5.31,0,0,0,4.9,4.9,5.31,5.31,0,0,0,6.5,1,5.31,5.31,0,0,0,8.1,4.9,5.31,5.31,0,0,0,12,6.5,5.46,5.46,0,0,0,6.5,12Z\"/>\n",
              "  </svg>\n",
              "    </button>\n",
              "    <script>\n",
              "      (() => {\n",
              "      const buttonEl =\n",
              "        document.querySelector('#id_5c32705a-3c94-46d3-ba68-636b236c6de8 button.colab-df-generate');\n",
              "      buttonEl.style.display =\n",
              "        google.colab.kernel.accessAllowed ? 'block' : 'none';\n",
              "\n",
              "      buttonEl.onclick = () => {\n",
              "        google.colab.notebook.generateWithVariable('numerical_summary');\n",
              "      }\n",
              "      })();\n",
              "    </script>\n",
              "  </div>\n",
              "\n",
              "    </div>\n",
              "  </div>\n"
            ],
            "application/vnd.google.colaboratory.intrinsic+json": {
              "type": "dataframe",
              "variable_name": "numerical_summary",
              "summary": "{\n  \"name\": \"numerical_summary\",\n  \"rows\": 5,\n  \"fields\": [\n    {\n      \"column\": \"count\",\n      \"properties\": {\n        \"dtype\": \"number\",\n        \"std\": 26.281171967779517,\n        \"min\": 856.0,\n        \"max\": 918.0,\n        \"num_unique_values\": 5,\n        \"samples\": [\n          859.0,\n          856.0,\n          888.0\n        ],\n        \"semantic_type\": \"\",\n        \"description\": \"\"\n      }\n    },\n    {\n      \"column\": \"mean\",\n      \"properties\": {\n        \"dtype\": \"number\",\n        \"std\": 91.88408688366054,\n        \"min\": 0.880607476635514,\n        \"max\": 242.1891891891892,\n        \"num_unique_values\": 5,\n        \"samples\": [\n          132.29452852153668,\n          0.880607476635514,\n          242.1891891891892\n        ],\n        \"semantic_type\": \"\",\n        \"description\": \"\"\n      }\n    },\n    {\n      \"column\": \"std\",\n      \"properties\": {\n        \"dtype\": \"number\",\n        \"std\": 20.063710874421915,\n        \"min\": 1.091840060750575,\n        \"max\": 53.4248064045572,\n        \"num_unique_values\": 5,\n        \"samples\": [\n          18.535874757122063,\n          1.091840060750575,\n          53.4248064045572\n        ],\n        \"semantic_type\": \"\",\n        \"description\": \"\"\n      }\n    },\n    {\n      \"column\": \"min\",\n      \"properties\": {\n        \"dtype\": \"number\",\n        \"std\": 36.99908106966983,\n        \"min\": -2.6,\n        \"max\": 85.0,\n        \"num_unique_values\": 5,\n        \"samples\": [\n          80.0,\n          -2.6,\n          85.0\n        ],\n        \"semantic_type\": \"\",\n        \"description\": \"\"\n      }\n    },\n    {\n      \"column\": \"max\",\n      \"properties\": {\n        \"dtype\": \"number\",\n        \"std\": 231.05442648865224,\n        \"min\": 6.2,\n        \"max\": 603.0,\n        \"num_unique_values\": 5,\n        \"samples\": [\n          200.0,\n          6.2,\n          603.0\n        ],\n        \"semantic_type\": \"\",\n        \"description\": \"\"\n      }\n    },\n    {\n      \"column\": \"skew\",\n      \"properties\": {\n        \"dtype\": \"number\",\n        \"std\": 0.7998383276472832,\n        \"min\": -0.20931861712171412,\n        \"max\": 1.6406720078938555,\n        \"num_unique_values\": 5,\n        \"samples\": [\n          0.6304108540023567,\n          1.0379904673527325,\n          1.6406720078938555\n        ],\n        \"semantic_type\": \"\",\n        \"description\": \"\"\n      }\n    },\n    {\n      \"column\": \"kurtosis\",\n      \"properties\": {\n        \"dtype\": \"number\",\n        \"std\": 2.9206037535914255,\n        \"min\": -0.4839390170676032,\n        \"max\": 6.573847872155039,\n        \"num_unique_values\": 5,\n        \"samples\": [\n          0.6329922125327587,\n          1.1198337837961372,\n          6.573847872155039\n        ],\n        \"semantic_type\": \"\",\n        \"description\": \"\"\n      }\n    }\n  ]\n}"
            }
          },
          "metadata": {}
        },
        {
          "output_type": "stream",
          "name": "stdout",
          "text": [
            "\n",
            "Estdistica descriptiva y tablas de frecuencias:\n",
            "\n",
            "Columna: sex\n"
          ]
        },
        {
          "output_type": "display_data",
          "data": {
            "text/plain": [
              "count      918\n",
              "unique       2\n",
              "top       Male\n",
              "freq       724\n",
              "Name: sex, dtype: object"
            ],
            "text/html": [
              "<div>\n",
              "<style scoped>\n",
              "    .dataframe tbody tr th:only-of-type {\n",
              "        vertical-align: middle;\n",
              "    }\n",
              "\n",
              "    .dataframe tbody tr th {\n",
              "        vertical-align: top;\n",
              "    }\n",
              "\n",
              "    .dataframe thead th {\n",
              "        text-align: right;\n",
              "    }\n",
              "</style>\n",
              "<table border=\"1\" class=\"dataframe\">\n",
              "  <thead>\n",
              "    <tr style=\"text-align: right;\">\n",
              "      <th></th>\n",
              "      <th>sex</th>\n",
              "    </tr>\n",
              "  </thead>\n",
              "  <tbody>\n",
              "    <tr>\n",
              "      <th>count</th>\n",
              "      <td>918</td>\n",
              "    </tr>\n",
              "    <tr>\n",
              "      <th>unique</th>\n",
              "      <td>2</td>\n",
              "    </tr>\n",
              "    <tr>\n",
              "      <th>top</th>\n",
              "      <td>Male</td>\n",
              "    </tr>\n",
              "    <tr>\n",
              "      <th>freq</th>\n",
              "      <td>724</td>\n",
              "    </tr>\n",
              "  </tbody>\n",
              "</table>\n",
              "</div><br><label><b>dtype:</b> object</label>"
            ]
          },
          "metadata": {}
        },
        {
          "output_type": "stream",
          "name": "stdout",
          "text": [
            "Frecuencia sex:\n"
          ]
        },
        {
          "output_type": "display_data",
          "data": {
            "text/plain": [
              "sex\n",
              "Male      724\n",
              "Female    194\n",
              "Name: count, dtype: int64"
            ],
            "text/html": [
              "<div>\n",
              "<style scoped>\n",
              "    .dataframe tbody tr th:only-of-type {\n",
              "        vertical-align: middle;\n",
              "    }\n",
              "\n",
              "    .dataframe tbody tr th {\n",
              "        vertical-align: top;\n",
              "    }\n",
              "\n",
              "    .dataframe thead th {\n",
              "        text-align: right;\n",
              "    }\n",
              "</style>\n",
              "<table border=\"1\" class=\"dataframe\">\n",
              "  <thead>\n",
              "    <tr style=\"text-align: right;\">\n",
              "      <th></th>\n",
              "      <th>count</th>\n",
              "    </tr>\n",
              "    <tr>\n",
              "      <th>sex</th>\n",
              "      <th></th>\n",
              "    </tr>\n",
              "  </thead>\n",
              "  <tbody>\n",
              "    <tr>\n",
              "      <th>Male</th>\n",
              "      <td>724</td>\n",
              "    </tr>\n",
              "    <tr>\n",
              "      <th>Female</th>\n",
              "      <td>194</td>\n",
              "    </tr>\n",
              "  </tbody>\n",
              "</table>\n",
              "</div><br><label><b>dtype:</b> int64</label>"
            ]
          },
          "metadata": {}
        },
        {
          "output_type": "stream",
          "name": "stdout",
          "text": [
            "\n",
            "Columna: origin\n"
          ]
        },
        {
          "output_type": "display_data",
          "data": {
            "text/plain": [
              "count           918\n",
              "unique            4\n",
              "top       Cleveland\n",
              "freq            304\n",
              "Name: origin, dtype: object"
            ],
            "text/html": [
              "<div>\n",
              "<style scoped>\n",
              "    .dataframe tbody tr th:only-of-type {\n",
              "        vertical-align: middle;\n",
              "    }\n",
              "\n",
              "    .dataframe tbody tr th {\n",
              "        vertical-align: top;\n",
              "    }\n",
              "\n",
              "    .dataframe thead th {\n",
              "        text-align: right;\n",
              "    }\n",
              "</style>\n",
              "<table border=\"1\" class=\"dataframe\">\n",
              "  <thead>\n",
              "    <tr style=\"text-align: right;\">\n",
              "      <th></th>\n",
              "      <th>origin</th>\n",
              "    </tr>\n",
              "  </thead>\n",
              "  <tbody>\n",
              "    <tr>\n",
              "      <th>count</th>\n",
              "      <td>918</td>\n",
              "    </tr>\n",
              "    <tr>\n",
              "      <th>unique</th>\n",
              "      <td>4</td>\n",
              "    </tr>\n",
              "    <tr>\n",
              "      <th>top</th>\n",
              "      <td>Cleveland</td>\n",
              "    </tr>\n",
              "    <tr>\n",
              "      <th>freq</th>\n",
              "      <td>304</td>\n",
              "    </tr>\n",
              "  </tbody>\n",
              "</table>\n",
              "</div><br><label><b>dtype:</b> object</label>"
            ]
          },
          "metadata": {}
        },
        {
          "output_type": "stream",
          "name": "stdout",
          "text": [
            "Frecuencia origin:\n"
          ]
        },
        {
          "output_type": "display_data",
          "data": {
            "text/plain": [
              "origin\n",
              "Cleveland        304\n",
              "Hungary          292\n",
              "VA Long Beach    200\n",
              "Switzerland      122\n",
              "Name: count, dtype: int64"
            ],
            "text/html": [
              "<div>\n",
              "<style scoped>\n",
              "    .dataframe tbody tr th:only-of-type {\n",
              "        vertical-align: middle;\n",
              "    }\n",
              "\n",
              "    .dataframe tbody tr th {\n",
              "        vertical-align: top;\n",
              "    }\n",
              "\n",
              "    .dataframe thead th {\n",
              "        text-align: right;\n",
              "    }\n",
              "</style>\n",
              "<table border=\"1\" class=\"dataframe\">\n",
              "  <thead>\n",
              "    <tr style=\"text-align: right;\">\n",
              "      <th></th>\n",
              "      <th>count</th>\n",
              "    </tr>\n",
              "    <tr>\n",
              "      <th>origin</th>\n",
              "      <th></th>\n",
              "    </tr>\n",
              "  </thead>\n",
              "  <tbody>\n",
              "    <tr>\n",
              "      <th>Cleveland</th>\n",
              "      <td>304</td>\n",
              "    </tr>\n",
              "    <tr>\n",
              "      <th>Hungary</th>\n",
              "      <td>292</td>\n",
              "    </tr>\n",
              "    <tr>\n",
              "      <th>VA Long Beach</th>\n",
              "      <td>200</td>\n",
              "    </tr>\n",
              "    <tr>\n",
              "      <th>Switzerland</th>\n",
              "      <td>122</td>\n",
              "    </tr>\n",
              "  </tbody>\n",
              "</table>\n",
              "</div><br><label><b>dtype:</b> int64</label>"
            ]
          },
          "metadata": {}
        },
        {
          "output_type": "stream",
          "name": "stdout",
          "text": [
            "\n",
            "Columna: cp\n"
          ]
        },
        {
          "output_type": "display_data",
          "data": {
            "text/plain": [
              "count              918\n",
              "unique               4\n",
              "top       asymptomatic\n",
              "freq               495\n",
              "Name: cp, dtype: object"
            ],
            "text/html": [
              "<div>\n",
              "<style scoped>\n",
              "    .dataframe tbody tr th:only-of-type {\n",
              "        vertical-align: middle;\n",
              "    }\n",
              "\n",
              "    .dataframe tbody tr th {\n",
              "        vertical-align: top;\n",
              "    }\n",
              "\n",
              "    .dataframe thead th {\n",
              "        text-align: right;\n",
              "    }\n",
              "</style>\n",
              "<table border=\"1\" class=\"dataframe\">\n",
              "  <thead>\n",
              "    <tr style=\"text-align: right;\">\n",
              "      <th></th>\n",
              "      <th>cp</th>\n",
              "    </tr>\n",
              "  </thead>\n",
              "  <tbody>\n",
              "    <tr>\n",
              "      <th>count</th>\n",
              "      <td>918</td>\n",
              "    </tr>\n",
              "    <tr>\n",
              "      <th>unique</th>\n",
              "      <td>4</td>\n",
              "    </tr>\n",
              "    <tr>\n",
              "      <th>top</th>\n",
              "      <td>asymptomatic</td>\n",
              "    </tr>\n",
              "    <tr>\n",
              "      <th>freq</th>\n",
              "      <td>495</td>\n",
              "    </tr>\n",
              "  </tbody>\n",
              "</table>\n",
              "</div><br><label><b>dtype:</b> object</label>"
            ]
          },
          "metadata": {}
        },
        {
          "output_type": "stream",
          "name": "stdout",
          "text": [
            "Frecuencia cp:\n"
          ]
        },
        {
          "output_type": "display_data",
          "data": {
            "text/plain": [
              "cp\n",
              "asymptomatic       495\n",
              "non-anginal        204\n",
              "atypical angina    174\n",
              "typical angina      45\n",
              "Name: count, dtype: int64"
            ],
            "text/html": [
              "<div>\n",
              "<style scoped>\n",
              "    .dataframe tbody tr th:only-of-type {\n",
              "        vertical-align: middle;\n",
              "    }\n",
              "\n",
              "    .dataframe tbody tr th {\n",
              "        vertical-align: top;\n",
              "    }\n",
              "\n",
              "    .dataframe thead th {\n",
              "        text-align: right;\n",
              "    }\n",
              "</style>\n",
              "<table border=\"1\" class=\"dataframe\">\n",
              "  <thead>\n",
              "    <tr style=\"text-align: right;\">\n",
              "      <th></th>\n",
              "      <th>count</th>\n",
              "    </tr>\n",
              "    <tr>\n",
              "      <th>cp</th>\n",
              "      <th></th>\n",
              "    </tr>\n",
              "  </thead>\n",
              "  <tbody>\n",
              "    <tr>\n",
              "      <th>asymptomatic</th>\n",
              "      <td>495</td>\n",
              "    </tr>\n",
              "    <tr>\n",
              "      <th>non-anginal</th>\n",
              "      <td>204</td>\n",
              "    </tr>\n",
              "    <tr>\n",
              "      <th>atypical angina</th>\n",
              "      <td>174</td>\n",
              "    </tr>\n",
              "    <tr>\n",
              "      <th>typical angina</th>\n",
              "      <td>45</td>\n",
              "    </tr>\n",
              "  </tbody>\n",
              "</table>\n",
              "</div><br><label><b>dtype:</b> int64</label>"
            ]
          },
          "metadata": {}
        },
        {
          "output_type": "stream",
          "name": "stdout",
          "text": [
            "\n",
            "Columna: fbs\n"
          ]
        },
        {
          "output_type": "display_data",
          "data": {
            "text/plain": [
              "count       829\n",
              "unique        2\n",
              "top       False\n",
              "freq        691\n",
              "Name: fbs, dtype: object"
            ],
            "text/html": [
              "<div>\n",
              "<style scoped>\n",
              "    .dataframe tbody tr th:only-of-type {\n",
              "        vertical-align: middle;\n",
              "    }\n",
              "\n",
              "    .dataframe tbody tr th {\n",
              "        vertical-align: top;\n",
              "    }\n",
              "\n",
              "    .dataframe thead th {\n",
              "        text-align: right;\n",
              "    }\n",
              "</style>\n",
              "<table border=\"1\" class=\"dataframe\">\n",
              "  <thead>\n",
              "    <tr style=\"text-align: right;\">\n",
              "      <th></th>\n",
              "      <th>fbs</th>\n",
              "    </tr>\n",
              "  </thead>\n",
              "  <tbody>\n",
              "    <tr>\n",
              "      <th>count</th>\n",
              "      <td>829</td>\n",
              "    </tr>\n",
              "    <tr>\n",
              "      <th>unique</th>\n",
              "      <td>2</td>\n",
              "    </tr>\n",
              "    <tr>\n",
              "      <th>top</th>\n",
              "      <td>False</td>\n",
              "    </tr>\n",
              "    <tr>\n",
              "      <th>freq</th>\n",
              "      <td>691</td>\n",
              "    </tr>\n",
              "  </tbody>\n",
              "</table>\n",
              "</div><br><label><b>dtype:</b> object</label>"
            ]
          },
          "metadata": {}
        },
        {
          "output_type": "stream",
          "name": "stdout",
          "text": [
            "Frecuencia fbs:\n"
          ]
        },
        {
          "output_type": "display_data",
          "data": {
            "text/plain": [
              "fbs\n",
              "False    691\n",
              "True     138\n",
              "Name: count, dtype: int64"
            ],
            "text/html": [
              "<div>\n",
              "<style scoped>\n",
              "    .dataframe tbody tr th:only-of-type {\n",
              "        vertical-align: middle;\n",
              "    }\n",
              "\n",
              "    .dataframe tbody tr th {\n",
              "        vertical-align: top;\n",
              "    }\n",
              "\n",
              "    .dataframe thead th {\n",
              "        text-align: right;\n",
              "    }\n",
              "</style>\n",
              "<table border=\"1\" class=\"dataframe\">\n",
              "  <thead>\n",
              "    <tr style=\"text-align: right;\">\n",
              "      <th></th>\n",
              "      <th>count</th>\n",
              "    </tr>\n",
              "    <tr>\n",
              "      <th>fbs</th>\n",
              "      <th></th>\n",
              "    </tr>\n",
              "  </thead>\n",
              "  <tbody>\n",
              "    <tr>\n",
              "      <th>False</th>\n",
              "      <td>691</td>\n",
              "    </tr>\n",
              "    <tr>\n",
              "      <th>True</th>\n",
              "      <td>138</td>\n",
              "    </tr>\n",
              "  </tbody>\n",
              "</table>\n",
              "</div><br><label><b>dtype:</b> int64</label>"
            ]
          },
          "metadata": {}
        },
        {
          "output_type": "stream",
          "name": "stdout",
          "text": [
            "\n",
            "Columna: restecg\n"
          ]
        },
        {
          "output_type": "display_data",
          "data": {
            "text/plain": [
              "count        918\n",
              "unique         3\n",
              "top       normal\n",
              "freq         551\n",
              "Name: restecg, dtype: object"
            ],
            "text/html": [
              "<div>\n",
              "<style scoped>\n",
              "    .dataframe tbody tr th:only-of-type {\n",
              "        vertical-align: middle;\n",
              "    }\n",
              "\n",
              "    .dataframe tbody tr th {\n",
              "        vertical-align: top;\n",
              "    }\n",
              "\n",
              "    .dataframe thead th {\n",
              "        text-align: right;\n",
              "    }\n",
              "</style>\n",
              "<table border=\"1\" class=\"dataframe\">\n",
              "  <thead>\n",
              "    <tr style=\"text-align: right;\">\n",
              "      <th></th>\n",
              "      <th>restecg</th>\n",
              "    </tr>\n",
              "  </thead>\n",
              "  <tbody>\n",
              "    <tr>\n",
              "      <th>count</th>\n",
              "      <td>918</td>\n",
              "    </tr>\n",
              "    <tr>\n",
              "      <th>unique</th>\n",
              "      <td>3</td>\n",
              "    </tr>\n",
              "    <tr>\n",
              "      <th>top</th>\n",
              "      <td>normal</td>\n",
              "    </tr>\n",
              "    <tr>\n",
              "      <th>freq</th>\n",
              "      <td>551</td>\n",
              "    </tr>\n",
              "  </tbody>\n",
              "</table>\n",
              "</div><br><label><b>dtype:</b> object</label>"
            ]
          },
          "metadata": {}
        },
        {
          "output_type": "stream",
          "name": "stdout",
          "text": [
            "Frecuencia restecg:\n"
          ]
        },
        {
          "output_type": "display_data",
          "data": {
            "text/plain": [
              "restecg\n",
              "normal              551\n",
              "lv hypertrophy      188\n",
              "st-t abnormality    179\n",
              "Name: count, dtype: int64"
            ],
            "text/html": [
              "<div>\n",
              "<style scoped>\n",
              "    .dataframe tbody tr th:only-of-type {\n",
              "        vertical-align: middle;\n",
              "    }\n",
              "\n",
              "    .dataframe tbody tr th {\n",
              "        vertical-align: top;\n",
              "    }\n",
              "\n",
              "    .dataframe thead th {\n",
              "        text-align: right;\n",
              "    }\n",
              "</style>\n",
              "<table border=\"1\" class=\"dataframe\">\n",
              "  <thead>\n",
              "    <tr style=\"text-align: right;\">\n",
              "      <th></th>\n",
              "      <th>count</th>\n",
              "    </tr>\n",
              "    <tr>\n",
              "      <th>restecg</th>\n",
              "      <th></th>\n",
              "    </tr>\n",
              "  </thead>\n",
              "  <tbody>\n",
              "    <tr>\n",
              "      <th>normal</th>\n",
              "      <td>551</td>\n",
              "    </tr>\n",
              "    <tr>\n",
              "      <th>lv hypertrophy</th>\n",
              "      <td>188</td>\n",
              "    </tr>\n",
              "    <tr>\n",
              "      <th>st-t abnormality</th>\n",
              "      <td>179</td>\n",
              "    </tr>\n",
              "  </tbody>\n",
              "</table>\n",
              "</div><br><label><b>dtype:</b> int64</label>"
            ]
          },
          "metadata": {}
        },
        {
          "output_type": "stream",
          "name": "stdout",
          "text": [
            "\n",
            "Columna: exang\n"
          ]
        },
        {
          "output_type": "display_data",
          "data": {
            "text/plain": [
              "count       863\n",
              "unique        2\n",
              "top       False\n",
              "freq        526\n",
              "Name: exang, dtype: object"
            ],
            "text/html": [
              "<div>\n",
              "<style scoped>\n",
              "    .dataframe tbody tr th:only-of-type {\n",
              "        vertical-align: middle;\n",
              "    }\n",
              "\n",
              "    .dataframe tbody tr th {\n",
              "        vertical-align: top;\n",
              "    }\n",
              "\n",
              "    .dataframe thead th {\n",
              "        text-align: right;\n",
              "    }\n",
              "</style>\n",
              "<table border=\"1\" class=\"dataframe\">\n",
              "  <thead>\n",
              "    <tr style=\"text-align: right;\">\n",
              "      <th></th>\n",
              "      <th>exang</th>\n",
              "    </tr>\n",
              "  </thead>\n",
              "  <tbody>\n",
              "    <tr>\n",
              "      <th>count</th>\n",
              "      <td>863</td>\n",
              "    </tr>\n",
              "    <tr>\n",
              "      <th>unique</th>\n",
              "      <td>2</td>\n",
              "    </tr>\n",
              "    <tr>\n",
              "      <th>top</th>\n",
              "      <td>False</td>\n",
              "    </tr>\n",
              "    <tr>\n",
              "      <th>freq</th>\n",
              "      <td>526</td>\n",
              "    </tr>\n",
              "  </tbody>\n",
              "</table>\n",
              "</div><br><label><b>dtype:</b> object</label>"
            ]
          },
          "metadata": {}
        },
        {
          "output_type": "stream",
          "name": "stdout",
          "text": [
            "Frecuencia exang:\n"
          ]
        },
        {
          "output_type": "display_data",
          "data": {
            "text/plain": [
              "exang\n",
              "False    526\n",
              "True     337\n",
              "Name: count, dtype: int64"
            ],
            "text/html": [
              "<div>\n",
              "<style scoped>\n",
              "    .dataframe tbody tr th:only-of-type {\n",
              "        vertical-align: middle;\n",
              "    }\n",
              "\n",
              "    .dataframe tbody tr th {\n",
              "        vertical-align: top;\n",
              "    }\n",
              "\n",
              "    .dataframe thead th {\n",
              "        text-align: right;\n",
              "    }\n",
              "</style>\n",
              "<table border=\"1\" class=\"dataframe\">\n",
              "  <thead>\n",
              "    <tr style=\"text-align: right;\">\n",
              "      <th></th>\n",
              "      <th>count</th>\n",
              "    </tr>\n",
              "    <tr>\n",
              "      <th>exang</th>\n",
              "      <th></th>\n",
              "    </tr>\n",
              "  </thead>\n",
              "  <tbody>\n",
              "    <tr>\n",
              "      <th>False</th>\n",
              "      <td>526</td>\n",
              "    </tr>\n",
              "    <tr>\n",
              "      <th>True</th>\n",
              "      <td>337</td>\n",
              "    </tr>\n",
              "  </tbody>\n",
              "</table>\n",
              "</div><br><label><b>dtype:</b> int64</label>"
            ]
          },
          "metadata": {}
        },
        {
          "output_type": "stream",
          "name": "stdout",
          "text": [
            "\n",
            "Columna: slope\n"
          ]
        },
        {
          "output_type": "display_data",
          "data": {
            "text/plain": [
              "count      610\n",
              "unique       3\n",
              "top       flat\n",
              "freq       345\n",
              "Name: slope, dtype: object"
            ],
            "text/html": [
              "<div>\n",
              "<style scoped>\n",
              "    .dataframe tbody tr th:only-of-type {\n",
              "        vertical-align: middle;\n",
              "    }\n",
              "\n",
              "    .dataframe tbody tr th {\n",
              "        vertical-align: top;\n",
              "    }\n",
              "\n",
              "    .dataframe thead th {\n",
              "        text-align: right;\n",
              "    }\n",
              "</style>\n",
              "<table border=\"1\" class=\"dataframe\">\n",
              "  <thead>\n",
              "    <tr style=\"text-align: right;\">\n",
              "      <th></th>\n",
              "      <th>slope</th>\n",
              "    </tr>\n",
              "  </thead>\n",
              "  <tbody>\n",
              "    <tr>\n",
              "      <th>count</th>\n",
              "      <td>610</td>\n",
              "    </tr>\n",
              "    <tr>\n",
              "      <th>unique</th>\n",
              "      <td>3</td>\n",
              "    </tr>\n",
              "    <tr>\n",
              "      <th>top</th>\n",
              "      <td>flat</td>\n",
              "    </tr>\n",
              "    <tr>\n",
              "      <th>freq</th>\n",
              "      <td>345</td>\n",
              "    </tr>\n",
              "  </tbody>\n",
              "</table>\n",
              "</div><br><label><b>dtype:</b> object</label>"
            ]
          },
          "metadata": {}
        },
        {
          "output_type": "stream",
          "name": "stdout",
          "text": [
            "Frecuencia slope:\n"
          ]
        },
        {
          "output_type": "display_data",
          "data": {
            "text/plain": [
              "slope\n",
              "flat           345\n",
              "upsloping      202\n",
              "downsloping     63\n",
              "Name: count, dtype: int64"
            ],
            "text/html": [
              "<div>\n",
              "<style scoped>\n",
              "    .dataframe tbody tr th:only-of-type {\n",
              "        vertical-align: middle;\n",
              "    }\n",
              "\n",
              "    .dataframe tbody tr th {\n",
              "        vertical-align: top;\n",
              "    }\n",
              "\n",
              "    .dataframe thead th {\n",
              "        text-align: right;\n",
              "    }\n",
              "</style>\n",
              "<table border=\"1\" class=\"dataframe\">\n",
              "  <thead>\n",
              "    <tr style=\"text-align: right;\">\n",
              "      <th></th>\n",
              "      <th>count</th>\n",
              "    </tr>\n",
              "    <tr>\n",
              "      <th>slope</th>\n",
              "      <th></th>\n",
              "    </tr>\n",
              "  </thead>\n",
              "  <tbody>\n",
              "    <tr>\n",
              "      <th>flat</th>\n",
              "      <td>345</td>\n",
              "    </tr>\n",
              "    <tr>\n",
              "      <th>upsloping</th>\n",
              "      <td>202</td>\n",
              "    </tr>\n",
              "    <tr>\n",
              "      <th>downsloping</th>\n",
              "      <td>63</td>\n",
              "    </tr>\n",
              "  </tbody>\n",
              "</table>\n",
              "</div><br><label><b>dtype:</b> int64</label>"
            ]
          },
          "metadata": {}
        },
        {
          "output_type": "stream",
          "name": "stdout",
          "text": [
            "\n",
            "Columna: thal\n"
          ]
        },
        {
          "output_type": "display_data",
          "data": {
            "text/plain": [
              "count        434\n",
              "unique         3\n",
              "top       normal\n",
              "freq         196\n",
              "Name: thal, dtype: object"
            ],
            "text/html": [
              "<div>\n",
              "<style scoped>\n",
              "    .dataframe tbody tr th:only-of-type {\n",
              "        vertical-align: middle;\n",
              "    }\n",
              "\n",
              "    .dataframe tbody tr th {\n",
              "        vertical-align: top;\n",
              "    }\n",
              "\n",
              "    .dataframe thead th {\n",
              "        text-align: right;\n",
              "    }\n",
              "</style>\n",
              "<table border=\"1\" class=\"dataframe\">\n",
              "  <thead>\n",
              "    <tr style=\"text-align: right;\">\n",
              "      <th></th>\n",
              "      <th>thal</th>\n",
              "    </tr>\n",
              "  </thead>\n",
              "  <tbody>\n",
              "    <tr>\n",
              "      <th>count</th>\n",
              "      <td>434</td>\n",
              "    </tr>\n",
              "    <tr>\n",
              "      <th>unique</th>\n",
              "      <td>3</td>\n",
              "    </tr>\n",
              "    <tr>\n",
              "      <th>top</th>\n",
              "      <td>normal</td>\n",
              "    </tr>\n",
              "    <tr>\n",
              "      <th>freq</th>\n",
              "      <td>196</td>\n",
              "    </tr>\n",
              "  </tbody>\n",
              "</table>\n",
              "</div><br><label><b>dtype:</b> object</label>"
            ]
          },
          "metadata": {}
        },
        {
          "output_type": "stream",
          "name": "stdout",
          "text": [
            "Frecuencia thal:\n"
          ]
        },
        {
          "output_type": "display_data",
          "data": {
            "text/plain": [
              "thal\n",
              "normal               196\n",
              "reversable defect    192\n",
              "fixed defect          46\n",
              "Name: count, dtype: int64"
            ],
            "text/html": [
              "<div>\n",
              "<style scoped>\n",
              "    .dataframe tbody tr th:only-of-type {\n",
              "        vertical-align: middle;\n",
              "    }\n",
              "\n",
              "    .dataframe tbody tr th {\n",
              "        vertical-align: top;\n",
              "    }\n",
              "\n",
              "    .dataframe thead th {\n",
              "        text-align: right;\n",
              "    }\n",
              "</style>\n",
              "<table border=\"1\" class=\"dataframe\">\n",
              "  <thead>\n",
              "    <tr style=\"text-align: right;\">\n",
              "      <th></th>\n",
              "      <th>count</th>\n",
              "    </tr>\n",
              "    <tr>\n",
              "      <th>thal</th>\n",
              "      <th></th>\n",
              "    </tr>\n",
              "  </thead>\n",
              "  <tbody>\n",
              "    <tr>\n",
              "      <th>normal</th>\n",
              "      <td>196</td>\n",
              "    </tr>\n",
              "    <tr>\n",
              "      <th>reversable defect</th>\n",
              "      <td>192</td>\n",
              "    </tr>\n",
              "    <tr>\n",
              "      <th>fixed defect</th>\n",
              "      <td>46</td>\n",
              "    </tr>\n",
              "  </tbody>\n",
              "</table>\n",
              "</div><br><label><b>dtype:</b> int64</label>"
            ]
          },
          "metadata": {}
        },
        {
          "output_type": "stream",
          "name": "stdout",
          "text": [
            "\n",
            "Estadistica descriptiva y tablas de frecuencia convertidas a variables categoricas:\n",
            "\n",
            "Columna: ca\n"
          ]
        },
        {
          "output_type": "display_data",
          "data": {
            "text/plain": [
              "count     309.0\n",
              "unique      4.0\n",
              "top         0.0\n",
              "freq      181.0\n",
              "Name: ca, dtype: float64"
            ],
            "text/html": [
              "<div>\n",
              "<style scoped>\n",
              "    .dataframe tbody tr th:only-of-type {\n",
              "        vertical-align: middle;\n",
              "    }\n",
              "\n",
              "    .dataframe tbody tr th {\n",
              "        vertical-align: top;\n",
              "    }\n",
              "\n",
              "    .dataframe thead th {\n",
              "        text-align: right;\n",
              "    }\n",
              "</style>\n",
              "<table border=\"1\" class=\"dataframe\">\n",
              "  <thead>\n",
              "    <tr style=\"text-align: right;\">\n",
              "      <th></th>\n",
              "      <th>ca</th>\n",
              "    </tr>\n",
              "  </thead>\n",
              "  <tbody>\n",
              "    <tr>\n",
              "      <th>count</th>\n",
              "      <td>309.0</td>\n",
              "    </tr>\n",
              "    <tr>\n",
              "      <th>unique</th>\n",
              "      <td>4.0</td>\n",
              "    </tr>\n",
              "    <tr>\n",
              "      <th>top</th>\n",
              "      <td>0.0</td>\n",
              "    </tr>\n",
              "    <tr>\n",
              "      <th>freq</th>\n",
              "      <td>181.0</td>\n",
              "    </tr>\n",
              "  </tbody>\n",
              "</table>\n",
              "</div><br><label><b>dtype:</b> float64</label>"
            ]
          },
          "metadata": {}
        },
        {
          "output_type": "stream",
          "name": "stdout",
          "text": [
            "Tabla frecuencia ca:\n"
          ]
        },
        {
          "output_type": "display_data",
          "data": {
            "text/plain": [
              "ca\n",
              "0.0    181\n",
              "1.0     67\n",
              "2.0     41\n",
              "3.0     20\n",
              "Name: count, dtype: int64"
            ],
            "text/html": [
              "<div>\n",
              "<style scoped>\n",
              "    .dataframe tbody tr th:only-of-type {\n",
              "        vertical-align: middle;\n",
              "    }\n",
              "\n",
              "    .dataframe tbody tr th {\n",
              "        vertical-align: top;\n",
              "    }\n",
              "\n",
              "    .dataframe thead th {\n",
              "        text-align: right;\n",
              "    }\n",
              "</style>\n",
              "<table border=\"1\" class=\"dataframe\">\n",
              "  <thead>\n",
              "    <tr style=\"text-align: right;\">\n",
              "      <th></th>\n",
              "      <th>count</th>\n",
              "    </tr>\n",
              "    <tr>\n",
              "      <th>ca</th>\n",
              "      <th></th>\n",
              "    </tr>\n",
              "  </thead>\n",
              "  <tbody>\n",
              "    <tr>\n",
              "      <th>0.0</th>\n",
              "      <td>181</td>\n",
              "    </tr>\n",
              "    <tr>\n",
              "      <th>1.0</th>\n",
              "      <td>67</td>\n",
              "    </tr>\n",
              "    <tr>\n",
              "      <th>2.0</th>\n",
              "      <td>41</td>\n",
              "    </tr>\n",
              "    <tr>\n",
              "      <th>3.0</th>\n",
              "      <td>20</td>\n",
              "    </tr>\n",
              "  </tbody>\n",
              "</table>\n",
              "</div><br><label><b>dtype:</b> int64</label>"
            ]
          },
          "metadata": {}
        },
        {
          "output_type": "stream",
          "name": "stdout",
          "text": [
            "\n",
            "Columna: num\n"
          ]
        },
        {
          "output_type": "display_data",
          "data": {
            "text/plain": [
              "count     918\n",
              "unique      5\n",
              "top         0\n",
              "freq      411\n",
              "Name: num, dtype: int64"
            ],
            "text/html": [
              "<div>\n",
              "<style scoped>\n",
              "    .dataframe tbody tr th:only-of-type {\n",
              "        vertical-align: middle;\n",
              "    }\n",
              "\n",
              "    .dataframe tbody tr th {\n",
              "        vertical-align: top;\n",
              "    }\n",
              "\n",
              "    .dataframe thead th {\n",
              "        text-align: right;\n",
              "    }\n",
              "</style>\n",
              "<table border=\"1\" class=\"dataframe\">\n",
              "  <thead>\n",
              "    <tr style=\"text-align: right;\">\n",
              "      <th></th>\n",
              "      <th>num</th>\n",
              "    </tr>\n",
              "  </thead>\n",
              "  <tbody>\n",
              "    <tr>\n",
              "      <th>count</th>\n",
              "      <td>918</td>\n",
              "    </tr>\n",
              "    <tr>\n",
              "      <th>unique</th>\n",
              "      <td>5</td>\n",
              "    </tr>\n",
              "    <tr>\n",
              "      <th>top</th>\n",
              "      <td>0</td>\n",
              "    </tr>\n",
              "    <tr>\n",
              "      <th>freq</th>\n",
              "      <td>411</td>\n",
              "    </tr>\n",
              "  </tbody>\n",
              "</table>\n",
              "</div><br><label><b>dtype:</b> int64</label>"
            ]
          },
          "metadata": {}
        },
        {
          "output_type": "stream",
          "name": "stdout",
          "text": [
            "Tabla frecuencia num:\n"
          ]
        },
        {
          "output_type": "display_data",
          "data": {
            "text/plain": [
              "num\n",
              "0    411\n",
              "1    263\n",
              "2    109\n",
              "3    107\n",
              "4     28\n",
              "Name: count, dtype: int64"
            ],
            "text/html": [
              "<div>\n",
              "<style scoped>\n",
              "    .dataframe tbody tr th:only-of-type {\n",
              "        vertical-align: middle;\n",
              "    }\n",
              "\n",
              "    .dataframe tbody tr th {\n",
              "        vertical-align: top;\n",
              "    }\n",
              "\n",
              "    .dataframe thead th {\n",
              "        text-align: right;\n",
              "    }\n",
              "</style>\n",
              "<table border=\"1\" class=\"dataframe\">\n",
              "  <thead>\n",
              "    <tr style=\"text-align: right;\">\n",
              "      <th></th>\n",
              "      <th>count</th>\n",
              "    </tr>\n",
              "    <tr>\n",
              "      <th>num</th>\n",
              "      <th></th>\n",
              "    </tr>\n",
              "  </thead>\n",
              "  <tbody>\n",
              "    <tr>\n",
              "      <th>0</th>\n",
              "      <td>411</td>\n",
              "    </tr>\n",
              "    <tr>\n",
              "      <th>1</th>\n",
              "      <td>263</td>\n",
              "    </tr>\n",
              "    <tr>\n",
              "      <th>2</th>\n",
              "      <td>109</td>\n",
              "    </tr>\n",
              "    <tr>\n",
              "      <th>3</th>\n",
              "      <td>107</td>\n",
              "    </tr>\n",
              "    <tr>\n",
              "      <th>4</th>\n",
              "      <td>28</td>\n",
              "    </tr>\n",
              "  </tbody>\n",
              "</table>\n",
              "</div><br><label><b>dtype:</b> int64</label>"
            ]
          },
          "metadata": {}
        }
      ]
    },
    {
      "cell_type": "markdown",
      "source": [
        "4. Calcula el porcentaje de valores faltantes en cada columna.\n",
        "* Elimina aquellas columnas cuyo porcentaje de valores faltantes supere el 30%.\n",
        "* Crea un mapa de calor que visualice la distribución de los valores faltantes en todas las columnas restantes.\n",
        "* Algunas variables presentan valores faltantes de manera simultánea; es decir, en el mapa se pueden identificar filas donde varias están ausentes al mismo tiempo. Enumera cuáles son dichas variables e investiga si esta concurrencia tiene sentido desde un punto de vista médico o clínico."
      ],
      "metadata": {
        "id": "jQzvkkMi07gO"
      }
    },
    {
      "cell_type": "code",
      "source": [
        "# % de valores faltantes\n",
        "porcentaje_faltante = (cardio_df.isnull().sum() / len(cardio_df)) * 100\n",
        "print(\"Percentage of missing values per column:\")\n",
        "print(porcentaje_faltante)\n",
        "\n",
        "cols_to_drop = porcentaje_faltante[porcentaje_faltante > 30].index.tolist()\n",
        "print(f\"\\nColumnas con más del 30% faltante): {cols_to_drop}\")\n",
        "\n",
        "cardio_df_cleaned = cardio_df.drop(columns=cols_to_drop)\n",
        "\n",
        "# Creacion de mapa de calor\n",
        "plt.figure(figsize=(10, 6))\n",
        "sns.heatmap(cardio_df_cleaned.isnull(), cbar=False, cmap='viridis')\n",
        "plt.title('Heatmap para valores faltantes')\n",
        "plt.show()\n",
        "\n",
        "# Enumera cuáles son dichas variables e investiga si esta concurrencia tiene sentido desde un punto de vista médico o clínico.\n",
        "print(\"\\nVariables que presentan valores perdidos simultaneamente:\")\n",
        "missing_corr = cardio_df_cleaned.isnull().corr()\n",
        "\n",
        "missing_corr_stacked = missing_corr.stack().sort_values(ascending=False)\n",
        "\n",
        "high_missing_corr = missing_corr_stacked[(missing_corr_stacked > 0.5) & (missing_corr_stacked < 1)]\n",
        "print(high_missing_corr)\n",
        "\n",
        "#Se identifica una correlción alta entre los valores que hacen referencia a sangrado con falta de valor en presión arterial (trestbps), tambie´n l alta correlación entre\n",
        "#thalch con la presión alterrial puede identificarse conmo normal dado que si se omite la medición de frecuencia cardiaca puede estarse omitiendo la toma de dato de presión arterial\n"
      ],
      "metadata": {
        "id": "AgU_wWiXWc_O",
        "colab": {
          "base_uri": "https://localhost:8080/",
          "height": 1000
        },
        "outputId": "e7409660-dd64-4c4f-c554-9ccf94881f95"
      },
      "execution_count": 47,
      "outputs": [
        {
          "output_type": "stream",
          "name": "stdout",
          "text": [
            "Percentage of missing values per column:\n",
            "age          0.000000\n",
            "sex          0.000000\n",
            "origin       0.000000\n",
            "cp           0.000000\n",
            "trestbps     6.427015\n",
            "chol         3.267974\n",
            "fbs          9.694989\n",
            "restecg      0.000000\n",
            "thalch       5.991285\n",
            "exang        5.991285\n",
            "oldpeak      6.753813\n",
            "slope       33.551198\n",
            "ca          66.339869\n",
            "thal        52.723312\n",
            "num          0.000000\n",
            "dtype: float64\n",
            "\n",
            "Columnas con más del 30% faltante): ['slope', 'ca', 'thal']\n"
          ]
        },
        {
          "output_type": "display_data",
          "data": {
            "text/plain": [
              "<Figure size 1000x600 with 1 Axes>"
            ],
            "image/png": "[encoded data removed]"
          },
          "metadata": {}
        },
        {
          "output_type": "stream",
          "name": "stdout",
          "text": [
            "\n",
            "Variables que presentan valores perdidos simultaneamente:\n",
            "exang     trestbps    0.963267\n",
            "trestbps  exang       0.963267\n",
            "          thalch      0.963267\n",
            "thalch    trestbps    0.963267\n",
            "exang     oldpeak     0.919740\n",
            "oldpeak   exang       0.919740\n",
            "          thalch      0.919740\n",
            "thalch    oldpeak     0.919740\n",
            "trestbps  oldpeak     0.902999\n",
            "oldpeak   trestbps    0.902999\n",
            "dtype: float64\n"
          ]
        }
      ]
    },
    {
      "cell_type": "markdown",
      "source": [
        "5. Si centramos el análisis en una de las variables identificadas en el ejercicio anterior, se puede suponer que los hallazgos obtenidos podrían ser aplicables a las demás variables que presentan un patrón similar.\n",
        "\n",
        "* ¿Tendrán los valores faltantes de `thalch` relación con alguna otra variable? Analízalo considerando las siguientes columnas:\n",
        "  *   Numéricas: `age`, `chol`\n",
        "  *   Categóricas: `restecg`, `cp`\n",
        "\n",
        "Para ello deberás dividir cada columna en dos grupos: con / sin faltantes en `thalch` y utilizar métodos gráficos y pruebas de hipótesis para ver si hay diferencias significativas.\n",
        "* Incluye las conclusiones del análisis con los resultados obtenidos.\n",
        "* Justifica si el mecanismo de faltantes de `thalch` es MCAR (*Missing Completely at Random*) o MAR (*Missing at Random*).\n",
        "\n",
        "**NOTA**. Puedes reutilizar las funciones `Diagnose_MV_Numerical` y `Diagnose_MV_Categorical` definidas en Hands-On-Prep_Missing_Values.zip. Revisa nuevamente cómo utilizarlas."
      ],
      "metadata": {
        "id": "gGdTTlwoAvRN"
      }
    },
    {
      "cell_type": "code",
      "source": [
        "from scipy.stats import ttest_ind\n",
        "def Diagnose_MV_Numerical(df,str_att_name,BM_MV):\n",
        "    MV_labels = {True:'Con valores faltantes',False:'Sin valores faltantes'}\n",
        "\n",
        "    labels=[]\n",
        "    box_sr = pd.Series('',index = BM_MV.unique())\n",
        "    for poss in BM_MV.unique():\n",
        "        BM = BM_MV == poss\n",
        "        box_sr[poss] = df[BM][str_att_name].dropna()\n",
        "        labels.append(MV_labels[poss])\n",
        "\n",
        "    plt.boxplot(box_sr,vert=False)\n",
        "    plt.yticks([1,2],labels)\n",
        "    plt.xlabel(str_att_name)\n",
        "    plt.show()\n",
        "\n",
        "    plt.figure(figsize=(10,4))\n",
        "\n",
        "    att_range = (df[str_att_name].min(),df[str_att_name].max())\n",
        "\n",
        "    for i,poss in enumerate(BM_MV.unique()):\n",
        "        plt.subplot(1,2,i+1)\n",
        "        BM = BM_MV == poss\n",
        "        df[BM][str_att_name].hist()\n",
        "        plt.xlim = att_range\n",
        "        plt.xlabel(str_att_name)\n",
        "        plt.title(MV_labels[poss])\n",
        "\n",
        "    plt.show()\n",
        "\n",
        "    group_1_data = df[BM_MV][str_att_name].dropna()\n",
        "    group_2_data = df[~BM_MV][str_att_name].dropna()\n",
        "\n",
        "    p_value = ttest_ind(group_1_data,group_2_data).pvalue\n",
        "\n",
        "    print('p-value of t-test: {}'.format(p_value))"
      ],
      "metadata": {
        "id": "mpbWpH_xcw1X"
      },
      "execution_count": 35,
      "outputs": []
    },
    {
      "cell_type": "code",
      "source": [
        "from scipy.stats import chi2_contingency\n",
        "def Diagnose_MV_Categorical(df,str_att_name,BM_MV):\n",
        "    MV_labels = {True:'Con valores faltantes',False:'Sin valores faltantes'}\n",
        "\n",
        "    plt.figure(figsize=(10,4))\n",
        "    for i,poss in enumerate(BM_MV.unique()):\n",
        "        plt.subplot(1,2,i+1)\n",
        "        BM = BM_MV == poss\n",
        "        df[BM][str_att_name].value_counts().plot.bar()\n",
        "        plt.title(MV_labels[poss])\n",
        "    plt.show()\n",
        "\n",
        "    contigency_table = pd.crosstab(BM_MV,df[str_att_name])\n",
        "    p_value = chi2_contingency(contigency_table)[1]\n",
        "\n",
        "    print('p-value of Chi_squared test: {}'.format(p_value))"
      ],
      "metadata": {
        "id": "ejjqw3orgZro"
      },
      "execution_count": 36,
      "outputs": []
    },
    {
      "cell_type": "code",
      "source": [
        "# Analisis de valores faltantes en 'thalch' vs 'age' (numerical)\n",
        "print(\"Analisis de valores faltantes en 'thalch' vs 'age':\")\n",
        "Diagnose_MV_Numerical(cardio_df_cleaned, 'age', cardio_df_cleaned['thalch'].isnull())\n",
        "\n",
        "# Analisis de valores faltantes en 'thalch' vs 'chol' (numerical)\n",
        "print(\"\\nAnalisis de valores faltantes en 'thalch' vs 'chol':\")\n",
        "Diagnose_MV_Numerical(cardio_df_cleaned, 'chol', cardio_df_cleaned['thalch'].isnull())\n",
        "\n",
        "# Analisis de valores faltantes en 'thalch' vs 'restecg' (categorical)\n",
        "print(\"\\nAnalisis de valores faltantes en 'thalch' vs 'restecg':\")\n",
        "Diagnose_MV_Categorical(cardio_df_cleaned, 'restecg', cardio_df_cleaned['thalch'].isnull())\n",
        "\n",
        "# Analisis de valores faltantes en 'thalch' vs 'cp' (categorical)\n",
        "print(\"\\nAnalisis de valores faltantes en 'thalch' vs 'cp':\")\n",
        "Diagnose_MV_Categorical(cardio_df_cleaned, 'cp', cardio_df_cleaned['thalch'].isnull())\n",
        "\n",
        "#El análisis mostró una diferencia estadísticamente significativa en la distribución de \"age\" y \"restecg\"\n",
        "#entre los grupos con y sin valores faltantes en \"thalch\" (los valores p-value fueron muy bajos).\n",
        "#Esto indica que la ausencia de \"thalch\" está relacionada con los valores de \"edad\" y \"restecg\".\n",
        "#Dado que la ausencia de thalch depende de otras variables del conjunto de datos (edad y restecg),\n",
        "#es probable que el mecanismo sea MAR (falta aleatoria). No considero que es MCAR ya que la ausencia no es independiente de todas las demás variables.\n",
        "#Tampoco es necesariamente NMAR (no falta aleatoria), ya que no hemos investigado si la ausencia depende del propio valor de thalch, si este se observara.\n"
      ],
      "metadata": {
        "id": "_TCZms8_We6q",
        "colab": {
          "base_uri": "https://localhost:8080/",
          "height": 1000
        },
        "outputId": "63f20a16-a6c3-4313-f714-b9dc97731fd3"
      },
      "execution_count": 38,
      "outputs": [
        {
          "output_type": "stream",
          "name": "stdout",
          "text": [
            "Analisis de valores faltantes en 'thalch' vs 'age':\n"
          ]
        },
        {
          "output_type": "display_data",
          "data": {
            "text/plain": [
              "<Figure size 640x480 with 1 Axes>"
            ],
            "image/png": "[encoded data removed]"
          },
          "metadata": {}
        },
        {
          "output_type": "display_data",
          "data": {
            "text/plain": [
              "<Figure size 1000x400 with 2 Axes>"
            ],
            "image/png": "[encoded data removed]"
          },
          "metadata": {}
        },
        {
          "output_type": "stream",
          "name": "stdout",
          "text": [
            "p-value of t-test: 1.5041244185890902e-06\n",
            "\n",
            "Analisis de valores faltantes en 'thalch' vs 'chol':\n"
          ]
        },
        {
          "output_type": "display_data",
          "data": {
            "text/plain": [
              "<Figure size 640x480 with 1 Axes>"
            ],
            "image/png": "[encoded data removed]"
          },
          "metadata": {}
        },
        {
          "output_type": "display_data",
          "data": {
            "text/plain": [
              "<Figure size 1000x400 with 2 Axes>"
            ],
            "image/png": "[encoded data removed]"
          },
          "metadata": {}
        },
        {
          "output_type": "stream",
          "name": "stdout",
          "text": [
            "p-value of t-test: 0.7165289974295672\n",
            "\n",
            "Analisis de valores faltantes en 'thalch' vs 'restecg':\n"
          ]
        },
        {
          "output_type": "display_data",
          "data": {
            "text/plain": [
              "<Figure size 1000x400 with 2 Axes>"
            ],
            "image/png": "[encoded data removed]"
          },
          "metadata": {}
        },
        {
          "output_type": "stream",
          "name": "stdout",
          "text": [
            "p-value of Chi_squared test: 1.1472889573985467e-09\n",
            "\n",
            "Analisis de valores faltantes en 'thalch' vs 'cp':\n"
          ]
        },
        {
          "output_type": "display_data",
          "data": {
            "text/plain": [
              "<Figure size 1000x400 with 2 Axes>"
            ],
            "image/png": "[encoded data removed]"
          },
          "metadata": {}
        },
        {
          "output_type": "stream",
          "name": "stdout",
          "text": [
            "p-value of Chi_squared test: 0.15420097177251701\n"
          ]
        }
      ]
    },
    {
      "cell_type": "code",
      "source": [],
      "metadata": {
        "id": "j2YBvrZHpVjf"
      },
      "execution_count": null,
      "outputs": []
    },
    {
      "cell_type": "markdown",
      "source": [
        "6. La imputación de una variable con valores faltantes puede realizarse por grupos o segmentos relevantes. Esto significa que, en lugar de utilizar una estadística global de toda la columna, se calcula la estadística correspondiente dentro de cada grupo definido por otra variable, haciendo:\n",
        "\n",
        "> `df['var_with_missing'] = df.groupby('related_var')['var_with_missing'].transform(lambda x: x.fillna(x.median()))`\n",
        "\n",
        "* Utiliza la variable `restecg` para separar los grupos e imputar `thalch` y todas las variables con patrón de faltantes similar (identificadas en el ejercicio 3) Asegúrate de cambiar la función de agregado si hay variables no numéricas.\n",
        "* Vuelve a generar el mapa de calor para verificar que los valores faltantes en estas variables hayan sido imputados."
      ],
      "metadata": {
        "id": "W0EfLE3F4w2-"
      }
    },
    {
      "cell_type": "code",
      "source": [
        "for col in ['thalch', 'trestbps', 'oldpeak']:\n",
        "    cardio_df_cleaned[col] = cardio_df_cleaned.groupby('restecg')[col].transform(lambda x: x.fillna(x.median()))\n",
        "\n",
        "cardio_df_cleaned['exang'] = cardio_df_cleaned.groupby('restecg')['exang'].transform(lambda x: x.fillna(x.mode()[0] if not x.mode().empty else np.nan))\n",
        "\n",
        "# Mapa de calor para verificr imputación\n",
        "plt.figure(figsize=(10, 6))\n",
        "sns.heatmap(cardio_df_cleaned.isnull(), cbar=False, cmap='viridis')\n",
        "plt.title('Heatmap valores faltantes')\n",
        "plt.show()"
      ],
      "metadata": {
        "id": "JeJ82HEPWgYa",
        "colab": {
          "base_uri": "https://localhost:8080/",
          "height": 601
        },
        "outputId": "5556b2c3-ba17-4d0d-ec0c-61027726e0a2"
      },
      "execution_count": 39,
      "outputs": [
        {
          "output_type": "stream",
          "name": "stderr",
          "text": [
            "/tmp/ipython-input-372047757.py:4: FutureWarning: Downcasting object dtype arrays on .fillna, .ffill, .bfill is deprecated and will change in a future version. Call result.infer_objects(copy=False) instead. To opt-in to the future behavior, set `pd.set_option('future.no_silent_downcasting', True)`\n",
            "  cardio_df_cleaned['exang'] = cardio_df_cleaned.groupby('restecg')['exang'].transform(lambda x: x.fillna(x.mode()[0] if not x.mode().empty else np.nan))\n"
          ]
        },
        {
          "output_type": "display_data",
          "data": {
            "text/plain": [
              "<Figure size 1000x600 with 1 Axes>"
            ],
            "image/png": "[encoded data removed]"
          },
          "metadata": {}
        }
      ]
    },
    {
      "cell_type": "code",
      "source": [],
      "metadata": {
        "id": "kD6-NAqJl7zJ"
      },
      "execution_count": null,
      "outputs": []
    },
    {
      "cell_type": "markdown",
      "source": [
        "8. Dibuja boxplots de todas las variables numéricas.\n",
        "* Obtén los valores atípicos mediante el método gráfico, a partir del objeto devuelto por el boxplot."
      ],
      "metadata": {
        "id": "ISFCl5c2JKkO"
      }
    },
    {
      "cell_type": "code",
      "source": [
        "numerical_cols = cardio_df_cleaned.select_dtypes(include=np.number).columns\n",
        "\n",
        "plt.figure(figsize=(12, 8))\n",
        "boxplot = cardio_df_cleaned[numerical_cols].boxplot(vert=False, patch_artist=True, return_type='dict')\n",
        "\n",
        "outliers = {}\n",
        "flier_artists = boxplot['fliers']\n",
        "for i, col in enumerate(numerical_cols):\n",
        "    flier_points = flier_artists[i].get_xdata()\n",
        "    if flier_points.size > 0:\n",
        "        outliers[col] = flier_points.tolist()\n",
        "\n",
        "plt.title('Boxplots para variables numéricas')\n",
        "plt.show()\n",
        "\n",
        "print(\"\\nOutliers identificados usando gráfica:\")\n",
        "for col, outlier_list in outliers.items():\n",
        "    print(f\"'{col}': {outlier_list}\")"
      ],
      "metadata": {
        "colab": {
          "base_uri": "https://localhost:8080/",
          "height": 826
        },
        "id": "PdeHAL74l8tQ",
        "outputId": "4881ed43-8b8b-41c2-8010-82388d102a9c"
      },
      "execution_count": 40,
      "outputs": [
        {
          "output_type": "display_data",
          "data": {
            "text/plain": [
              "<Figure size 1200x800 with 1 Axes>"
            ],
            "image/png": "[encoded data removed]"
          },
          "metadata": {}
        },
        {
          "output_type": "stream",
          "name": "stdout",
          "text": [
            "\n",
            "Outliers identificados usando gráfica:\n",
            "'trestbps': [80.0, 172.0, 180.0, 200.0, 174.0, 178.0, 192.0, 180.0, 178.0, 180.0, 190.0, 180.0, 180.0, 180.0, 180.0, 200.0, 180.0, 180.0, 180.0, 200.0, 185.0, 200.0, 180.0, 178.0, 172.0, 180.0, 190.0]\n",
            "'chol': [126.0, 131.0, 132.0, 129.0, 100.0, 85.0, 117.0, 100.0, 354.0, 353.0, 417.0, 360.0, 407.0, 564.0, 394.0, 409.0, 358.0, 412.0, 468.0, 365.0, 394.0, 347.0, 466.0, 529.0, 392.0, 355.0, 603.0, 404.0, 518.0, 388.0, 491.0, 393.0, 458.0, 384.0, 349.0, 369.0, 385.0]\n",
            "'thalch': [60.0, 63.0]\n",
            "'oldpeak': [-2.6, 6.2, 4.0, 5.6, 4.0, 4.2, 4.2, 3.8, 4.4, 4.0, 4.0, 5.0, 4.0, 4.0, 4.0, 4.0]\n"
          ]
        }
      ]
    },
    {
      "cell_type": "markdown",
      "source": [
        "7. Para las variables que aún presentan valores faltantes, realiza la imputación utilizando estadísticas generales calculadas sobre toda la columna, sin segmentar por grupos. Esta vez utiliza la clase `SimpleImputer` de sklearn\n",
        "* Justifica la estrategia (*mean, median, most_frequent*) que emplees en cada caso.\n"
      ],
      "metadata": {
        "id": "G7xzAbYNDUVy"
      }
    },
    {
      "cell_type": "code",
      "source": [
        "from sklearn.impute import SimpleImputer\n",
        "\n",
        "imputer_median = SimpleImputer(strategy='median')\n",
        "cardio_df_cleaned['chol'] = imputer_median.fit_transform(cardio_df_cleaned[['chol']]).ravel()\n",
        "\n",
        "imputer_mode = SimpleImputer(strategy='most_frequent')\n",
        "cardio_df_cleaned['fbs'] = imputer_mode.fit_transform(cardio_df_cleaned[['fbs']]).ravel()\n",
        "\n",
        "print(\"% de valores faltantes despues de la imputación:\")\n",
        "print(cardio_df_cleaned.isnull().sum() / len(cardio_df_cleaned) * 100)\n",
        "\n",
        "# Mapa de calor de verificación de que todos los valores faltantes han sido imputados\n",
        "plt.figure(figsize=(10, 6))\n",
        "sns.heatmap(cardio_df_cleaned.isnull(), cbar=False, cmap='viridis')\n",
        "plt.title('Heatmap valores faltantes - despues de imputación general')\n",
        "plt.show()\n",
        "\n",
        "#Para la variable numérica chol, utilicé la estrategia de la mediana con SimpleImputer.\n",
        "#vi que podí ser buena opción para datos numéricos, incluso cuando contiene valores atípicos ya que la mediana es menos sensible a los valores extremos que la media.\n",
        "\n",
        "#Para la variable categórica fbs, utilicé most_frequent con SimpleImputer que es el enfoque estándar para imputar valores\n",
        "#faltantes en variables categóricas, ya que reemplaza los valores faltantes con la moda (la categoría más frecuente)."
      ],
      "metadata": {
        "id": "cA85YjIUWjSI",
        "colab": {
          "base_uri": "https://localhost:8080/",
          "height": 795
        },
        "outputId": "953bb8a7-e23c-4cf6-ac86-49c5422f67ac"
      },
      "execution_count": 49,
      "outputs": [
        {
          "output_type": "stream",
          "name": "stdout",
          "text": [
            "% de valores faltantes despues de la imputación:\n",
            "age         0.000000\n",
            "sex         0.000000\n",
            "origin      0.000000\n",
            "cp          0.000000\n",
            "trestbps    6.427015\n",
            "chol        0.000000\n",
            "fbs         0.000000\n",
            "restecg     0.000000\n",
            "thalch      5.991285\n",
            "exang       5.991285\n",
            "oldpeak     6.753813\n",
            "num         0.000000\n",
            "dtype: float64\n"
          ]
        },
        {
          "output_type": "display_data",
          "data": {
            "text/plain": [
              "<Figure size 1000x600 with 1 Axes>"
            ],
            "image/png": "[encoded data removed]"
          },
          "metadata": {}
        }
      ]
    },
    {
      "cell_type": "code",
      "source": [],
      "metadata": {
        "id": "Xf7qJv4LrYiZ"
      },
      "execution_count": null,
      "outputs": []
    },
    {
      "cell_type": "markdown",
      "source": [
        "9. Para la variable `trestbps`, calcula los valores atípicos utilizando el método del rango intercuartílico (IQR).\n",
        "* Para ello obtén los cuartiles necesarios y determina los límites superior e inferior para filtrar los valores que se encuentren fuera de ese rango.\n",
        "* Verifica si los resultados coinciden con los obtenidos en el ejercicio anterior."
      ],
      "metadata": {
        "id": "XEz4rTYfNynV"
      }
    },
    {
      "cell_type": "code",
      "source": [
        "numerical_cols = cardio_df_cleaned.select_dtypes(include=np.number).columns\n",
        "\n",
        "plt.figure(figsize=(12, 8))\n",
        "boxplot = cardio_df_cleaned[numerical_cols].boxplot(vert=False, patch_artist=True, return_type='dict')\n",
        "outliers = {}\n",
        "flier_artists = boxplot['fliers']\n",
        "for i, col in enumerate(numerical_cols):\n",
        "    flier_points = flier_artists[i].get_xdata()\n",
        "    if flier_points.size > 0:\n",
        "        outliers[col] = flier_points.tolist()\n",
        "\n",
        "plt.title('Boxplots para variables numéricas')\n",
        "plt.show()\n",
        "\n",
        "print(\"\\nOutliers identificados usando gráfica:\")\n",
        "for col, outlier_list in outliers.items():\n",
        "    print(f\"'{col}': {outlier_list}\")\n",
        "\n",
        "    #Los resultados (outliers) en general si conciden con el ejercico anterior salvo una ligera diferencia en \"chol\" al utiliuzar IQR toma un outlier adicional (141)\n",
        "\n"
      ],
      "metadata": {
        "id": "U1iQQuszWkjG",
        "colab": {
          "base_uri": "https://localhost:8080/",
          "height": 826
        },
        "outputId": "0d048c07-f4b2-4b04-ccee-dd20154c28ef"
      },
      "execution_count": 42,
      "outputs": [
        {
          "output_type": "display_data",
          "data": {
            "text/plain": [
              "<Figure size 1200x800 with 1 Axes>"
            ],
            "image/png": "[encoded data removed]"
          },
          "metadata": {}
        },
        {
          "output_type": "stream",
          "name": "stdout",
          "text": [
            "\n",
            "Outliers identificados usando gráfica:\n",
            "'trestbps': [80.0, 172.0, 180.0, 200.0, 174.0, 178.0, 192.0, 180.0, 178.0, 180.0, 190.0, 180.0, 180.0, 180.0, 180.0, 200.0, 180.0, 180.0, 180.0, 200.0, 185.0, 200.0, 180.0, 178.0, 172.0, 180.0, 190.0]\n",
            "'chol': [141.0, 126.0, 131.0, 132.0, 129.0, 100.0, 85.0, 117.0, 100.0, 142.0, 139.0, 354.0, 353.0, 417.0, 360.0, 407.0, 564.0, 394.0, 409.0, 342.0, 358.0, 412.0, 468.0, 365.0, 344.0, 394.0, 347.0, 466.0, 529.0, 392.0, 355.0, 603.0, 342.0, 404.0, 518.0, 388.0, 491.0, 342.0, 393.0, 458.0, 384.0, 349.0, 369.0, 385.0]\n",
            "'thalch': [60.0, 63.0]\n",
            "'oldpeak': [-2.6, 6.2, 4.0, 5.6, 4.0, 4.2, 4.2, 3.8, 4.4, 4.0, 4.0, 5.0, 4.0, 4.0, 4.0, 4.0]\n"
          ]
        }
      ]
    },
    {
      "cell_type": "code",
      "source": [],
      "metadata": {
        "id": "wC7e4RnCuygu"
      },
      "execution_count": null,
      "outputs": []
    },
    {
      "cell_type": "markdown",
      "source": [],
      "metadata": {
        "id": "8N0soXE-uyFq"
      }
    },
    {
      "cell_type": "markdown",
      "source": [
        "10. Elimina los valores atípicos identificados de la variable `trestbps`.\n",
        "* Dibuja el boxplot final para visualizar la distribución depurada."
      ],
      "metadata": {
        "id": "fnpz9fmePef5"
      }
    },
    {
      "cell_type": "code",
      "source": [
        "Q1 = cardio_df_cleaned['trestbps'].quantile(0.25)\n",
        "Q3 = cardio_df_cleaned['trestbps'].quantile(0.75)\n",
        "IQR = Q3 - Q1\n",
        "\n",
        "limite_inferior = Q1 - 1.5 * IQR\n",
        "limite_superior = Q3 + 1.5 * IQR\n",
        "\n",
        "cardio_df_cleaned_no_outliers = cardio_df_cleaned[(cardio_df_cleaned['trestbps'] >= limite_inferior) & (cardio_df_cleaned['trestbps'] <= limite_superior)].copy()\n",
        "\n",
        "# boxplot 'trestbps' al remover outliers\n",
        "plt.figure(figsize=(8, 6))\n",
        "cardio_df_cleaned_no_outliers.boxplot(column='trestbps', vert=False, patch_artist=True)\n",
        "plt.title('Boxplot trestbps despues de remover outlier (IQR)')\n",
        "plt.xlabel('trestbps')\n",
        "plt.show()\n",
        "\n",
        "print(f\"DataFrame antes de la eliminación de valores atípicos: {cardio_df_cleaned.shape}\")\n",
        "print(f\"DataFrame después de la eliminación de valores atípicos: {cardio_df_cleaned_no_outliers.shape}\")"
      ],
      "metadata": {
        "id": "Yzg_5F0KWldI",
        "colab": {
          "base_uri": "https://localhost:8080/",
          "height": 600
        },
        "outputId": "16f29e86-a011-4646-842d-b5da40eaddd6"
      },
      "execution_count": 46,
      "outputs": [
        {
          "output_type": "display_data",
          "data": {
            "text/plain": [
              "<Figure size 800x600 with 1 Axes>"
            ],
            "image/png": "[encoded data removed]"
          },
          "metadata": {}
        },
        {
          "output_type": "stream",
          "name": "stdout",
          "text": [
            "DataFrame antes de la eliminación de valores atípicos: (918, 12)\n",
            "DataFrame después de la eliminación de valores atípicos: (891, 12)\n"
          ]
        }
      ]
    }
  ],
  "metadata": {
    "kernelspec": {
      "display_name": "Python 3",
      "language": "python",
      "name": "python3"
    },
    "language_info": {
      "codemirror_mode": {
        "name": "ipython",
        "version": 3
      },
      "file_extension": ".py",
      "mimetype": "text/x-python",
      "name": "python",
      "nbconvert_exporter": "python",
      "pygments_lexer": "ipython3",
      "version": "3.8.5"
    },
    "colab": {
      "provenance": []
    }
  },
  "nbformat": 4,
  "nbformat_minor": 0
}