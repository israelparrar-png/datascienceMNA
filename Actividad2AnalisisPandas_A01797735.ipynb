{
 "cells": [
  {
   "cell_type": "markdown",
   "metadata": {
    "id": "SML-04QQLd9l"
   },
   "source": [
    "**MAESTRÍA EN INTELIGENCIA ARTIFICIAL APLICADA**\n",
    "\n",
    "**Curso: TC5053 - Ciencia y analítica de datos**\n",
    "\n",
    "Tecnológico de Monterrey\n",
    "\n",
    "Prof Grettel Barceló Alonso\n",
    "\n",
    "**Semana 2**\n",
    "Pandas para el análisis de datos en Python\n",
    "\n",
    "---"
   ]
  },
  {
   "cell_type": "markdown",
   "metadata": {
    "id": "6q35__bSBB3G"
   },
   "source": [
    "*   NOMBRE: ---------------------------------------------------------\n",
    "*   MATRÍCULA: ----------------------------------------------------\n"
   ]
  },
  {
   "cell_type": "markdown",
   "metadata": {
    "id": "AepY3wwtDXkc"
   },
   "source": [
    "---"
   ]
  },
  {
   "cell_type": "markdown",
   "metadata": {
    "id": "BumCtObqBqGr"
   },
   "source": [
    "En esta actividad trabajarás con el archivo `cleaned_weather.csv`, un extracto del conjunto de datos meteorológicos a lo largo de todo el año 2020 en una estación del Instituto *Max Planck* (Alemania) disponible en Kaggle.\n",
    "\n",
    "Los datos meteorológicos fueron registrados cada 10 minutos e incluyen los siguientes indicadores:\n",
    "\n",
    "*   `timestamp`: Fecha y hora de la observación.\n",
    "*   `p`: Presión atmosférica en milibares (mbar)\n",
    "*   `T`: Temperatura del aire en grados Celsius (°C)\n",
    "*   `Tpot`: Temperatura potencial en Kelvin (K)\n",
    "*   `rh`: Humedad relativa en porcentaje (%)\n",
    "*   `VPact`: Presión real de vapor en milibares (mbar)\n",
    "*   `sh`: Humedad específica en gramos por kilogramo (g/kg)\n",
    "*   `H2OC`: Concentración de vapor de agua en milimoles por mol (mmol/mol) de aire seco\n",
    "*   `rho`: Densidad del aire en gramos por metro cúbico (g/m³)\n",
    "*   `wv`: Velocidad del viento en metros por segundo (m/s)\n",
    "*   `wd`: Dirección del viento en grados (°)\n",
    "*   `rain`: Precipitación total en milímetros (mm)\n",
    "*   `raining`: Duración de la lluvia en segundos (s)\n",
    "\n",
    "**NOTA IMPORTANTE:** Asegúrate de responder *explícitamente* todos los cuestionamientos.\n"
   ]
  },
  {
   "cell_type": "code",
   "execution_count": 1,
   "metadata": {
    "id": "dufK-8ZcUsgW"
   },
   "outputs": [
    {
     "name": "stdout",
     "output_type": "stream",
     "text": [
      "Dimensionalidad del DataFrame (filas, columnas): 52696,13\n"
     ]
    }
   ],
   "source": [
    "# Importa las librerías necesarias\n",
    "\n",
    "import pandas as pd\n",
    "import matplotlib.pyplot as plt\n",
    "\n",
    "#Cargar dataset el Dataframe\n",
    "\n",
    "df = pd.read_csv('cleaned_weather.csv')\n",
    "\n",
    "#Determina la dimensionalidad del dataframe y obtén los identificadores de columnas.\n",
    "\n",
    "fila=str(df.shape[0])\n",
    "columnas=str(df.shape[1])\n",
    "\n",
    "print (f\"Dimensionalidad del DataFrame (filas, columnas): {fila},{columnas}\")\n",
    "\n"
   ]
  },
  {
   "cell_type": "markdown",
   "metadata": {
    "id": "mqtTwAL3Mr44"
   },
   "source": [
    "1.\tDescarga el archivo: `cleaned_weather.csv` y guarda, en un dataframe (`weather_df`), todos sus registros.\n",
    "- Determina la dimensionalidad del dataframe y obtén los identificadores de columnas.\n",
    "- Renombra las columnas para facilitar la interpretación de los indicadores en los ejercicios siguientes:\n",
    "  - `medicion, presion_atmosferica, temperatura_celsius, temperatura_celsius, temperatura_kelvin, humedad_relativa, presion_vapor, humedad_especifica, concentracion_vapor, densidad_aire, velocidad_viento, direccion_viento, precipitacion_total, duracion_lluvia`\n",
    "- Muestra los primeros y los últimos 5 registros.\n",
    "- ¿Hay valores faltantes en el dataframe?\n",
    "\n",
    "\n",
    "\n"
   ]
  },
  {
   "cell_type": "code",
   "execution_count": 2,
   "metadata": {
    "id": "b967uY-p0MlX"
   },
   "outputs": [
    {
     "name": "stdout",
     "output_type": "stream",
     "text": [
      "Index(['timestamp', 'p', 'T', 'Tpot', 'rh', 'VPact', 'sh', 'H2OC', 'rho', 'wv',\n",
      "       'wd', 'rain', 'raining'],\n",
      "      dtype='object')\n",
      "Index(['medición', 'presion_atomosferica', 'temperatura',\n",
      "       'temperatura_potencial', 'humedad_relativa', 'presion_vapor',\n",
      "       'humedad_especifica', 'concentracion_vapor', 'densidad_aire',\n",
      "       'velocidad_viento', 'direccion_viento', 'precipitacion_total',\n",
      "       'duracion_lluvia'],\n",
      "      dtype='object')\n",
      "        medición  presion_atomosferica  temperatura  temperatura_potencial  \\\n",
      "0  01/01/20 0:10               1008.89         0.71                 273.18   \n",
      "1  01/01/20 0:20               1008.76         0.75                 273.22   \n",
      "2  01/01/20 0:30               1008.66         0.73                 273.21   \n",
      "3  01/01/20 0:40               1008.64         0.37                 272.86   \n",
      "4  01/01/20 0:50               1008.61         0.33                 272.82   \n",
      "\n",
      "   humedad_relativa  presion_vapor  humedad_especifica  concentracion_vapor  \\\n",
      "0              86.1           5.54                3.42                 5.49   \n",
      "1              85.2           5.49                3.39                 5.45   \n",
      "2              85.1           5.48                3.39                 5.43   \n",
      "3              86.3           5.41                3.35                 5.37   \n",
      "4              87.4           5.47                3.38                 5.42   \n",
      "\n",
      "   densidad_aire  velocidad_viento  direccion_viento  precipitacion_total  \\\n",
      "0        1280.62              1.02             224.3                  0.0   \n",
      "1        1280.33              0.43             206.8                  0.0   \n",
      "2        1280.29              0.61             197.1                  0.0   \n",
      "3        1281.97              1.11             206.4                  0.0   \n",
      "4        1282.08              0.49             209.6                  0.0   \n",
      "\n",
      "   duracion_lluvia  \n",
      "0                0  \n",
      "1                0  \n",
      "2                0  \n",
      "3                0  \n",
      "4                0  \n",
      "             medición  presion_atomosferica  temperatura  \\\n",
      "52691  31/12/20 23:20                978.32         2.28   \n",
      "52692  31/12/20 23:30                978.30         2.13   \n",
      "52693  31/12/20 23:40                978.26         1.99   \n",
      "52694  31/12/20 23:50                978.26         2.07   \n",
      "52695   01/01/21 0:00                978.24         2.01   \n",
      "\n",
      "       temperatura_potencial  humedad_relativa  presion_vapor  \\\n",
      "52691                 277.16              80.0           5.76   \n",
      "52692                 277.01              83.1           5.92   \n",
      "52693                 276.88              82.2           5.80   \n",
      "52694                 276.95              81.4           5.77   \n",
      "52695                 276.89              82.4           5.82   \n",
      "\n",
      "       humedad_especifica  concentracion_vapor  densidad_aire  \\\n",
      "52691                3.67                 5.89        1234.61   \n",
      "52692                3.77                 6.05        1235.20   \n",
      "52693                3.69                 5.93        1235.82   \n",
      "52694                3.68                 5.90        1235.49   \n",
      "52695                3.71                 5.95        1235.71   \n",
      "\n",
      "       velocidad_viento  direccion_viento  precipitacion_total  \\\n",
      "52691              0.73             180.6                  0.0   \n",
      "52692              0.43             174.0                  0.0   \n",
      "52693              0.38             248.9                  0.0   \n",
      "52694              0.57             196.6                  0.0   \n",
      "52695              0.57             221.3                  0.0   \n",
      "\n",
      "       duracion_lluvia  \n",
      "52691                0  \n",
      "52692                0  \n",
      "52693                0  \n",
      "52694                0  \n",
      "52695                0  \n",
      "medición                 0\n",
      "presion_atomosferica     0\n",
      "temperatura              0\n",
      "temperatura_potencial    0\n",
      "humedad_relativa         0\n",
      "presion_vapor            0\n",
      "humedad_especifica       0\n",
      "concentracion_vapor      0\n",
      "densidad_aire            0\n",
      "velocidad_viento         0\n",
      "direccion_viento         0\n",
      "precipitacion_total      0\n",
      "duracion_lluvia          0\n",
      "dtype: int64\n"
     ]
    }
   ],
   "source": [
    "# Identificadores de las columnas\n",
    "\n",
    "print (df.columns)\n",
    "df.rename(columns={'timestamp':'medición', 'p':'presion_atomosferica', 'T':'temperatura', 'Tpot':'temperatura_potencial', 'rh':'humedad_relativa', 'VPact':'presion_vapor',\n",
    "                   'sh':'humedad_especifica', 'H2OC':'concentracion_vapor',\n",
    "                   'rho':'densidad_aire', 'wv':'velocidad_viento',\n",
    "       'wd':'direccion_viento', 'rain':'precipitacion_total', 'raining':'duracion_lluvia'},inplace=True)\n",
    "print(df.columns)\n",
    "\n",
    "#muestra primeros y últimos 5 registros\n",
    "\n",
    "print(df.head(5))\n",
    "print(df.tail(5))\n",
    "\n",
    "#datos faltantes\n",
    "\n",
    "print(df.isnull().sum())"
   ]
  },
  {
   "cell_type": "markdown",
   "metadata": {
    "id": "bZIqDTuzDjJH"
   },
   "source": [
    "2. Determina el tipo de datos que tienen las columnas.\n",
    "- Cambia la columna `medicion` a datetime.\n",
    "- Obtén dos columnas adicionales separando `medicion` en `fecha` y `hora`."
   ]
  },
  {
   "cell_type": "code",
   "execution_count": 3,
   "metadata": {
    "id": "QcIJCln80OWt"
   },
   "outputs": [
    {
     "name": "stdout",
     "output_type": "stream",
     "text": [
      "\n",
      "Tipos de datos por columna:\n",
      "medición                  object\n",
      "presion_atomosferica     float64\n",
      "temperatura              float64\n",
      "temperatura_potencial    float64\n",
      "humedad_relativa         float64\n",
      "presion_vapor            float64\n",
      "humedad_especifica       float64\n",
      "concentracion_vapor      float64\n",
      "densidad_aire            float64\n",
      "velocidad_viento         float64\n",
      "direccion_viento         float64\n",
      "precipitacion_total      float64\n",
      "duracion_lluvia            int64\n",
      "dtype: object\n",
      "medición                 datetime64[ns]\n",
      "presion_atomosferica            float64\n",
      "temperatura                     float64\n",
      "temperatura_potencial           float64\n",
      "humedad_relativa                float64\n",
      "presion_vapor                   float64\n",
      "humedad_especifica              float64\n",
      "concentracion_vapor             float64\n",
      "densidad_aire                   float64\n",
      "velocidad_viento                float64\n",
      "direccion_viento                float64\n",
      "precipitacion_total             float64\n",
      "duracion_lluvia                   int64\n",
      "fecha                            object\n",
      "hora                             object\n",
      "dtype: object\n"
     ]
    }
   ],
   "source": [
    "#Determina el tipo de datos que tienen las columnas\n",
    "\n",
    "print(\"\\nTipos de datos por columna:\")\n",
    "print(df.dtypes)\n",
    "\n",
    "#Cambia la columna medicion a datetime.\n",
    "df[\"medición\"]=pd.to_datetime(df[\"medición\"], format='%d/%m/%y %H:%M')\n",
    "\n",
    "#Obtén dos columnas adicionales separando medicion en fecha y hora\n",
    "\n",
    "df[\"fecha\"]=df[\"medición\"].dt.date\n",
    "df[\"hora\"]=df[\"medición\"].dt.time\n",
    "print(df.dtypes)\n",
    "\n"
   ]
  },
  {
   "cell_type": "markdown",
   "metadata": {
    "id": "FGeZWTF6LM5w"
   },
   "source": [
    "3. Determina la cantidad de valores únicos de cada columna.\n",
    "- La columna `medicion` tiene un valor menos que el número total de filas del dataframe, lo que indica que hay una fecha duplicada. Identifica cuál es.\n",
    "- Comprueba si las demás columnas también contienen los mismos valores; si es así, elimina  uno de los registros duplicados.\n"
   ]
  },
  {
   "cell_type": "code",
   "execution_count": 4,
   "metadata": {
    "id": "_Geypf_30QPu"
   },
   "outputs": [
    {
     "name": "stdout",
     "output_type": "stream",
     "text": [
      "medición                 52695\n",
      "presion_atomosferica      5052\n",
      "temperatura               3680\n",
      "temperatura_potencial     3836\n",
      "humedad_relativa          5494\n",
      "presion_vapor             2059\n",
      "humedad_especifica        1337\n",
      "concentracion_vapor       2087\n",
      "densidad_aire            14826\n",
      "velocidad_viento           977\n",
      "direccion_viento          8099\n",
      "precipitacion_total         42\n",
      "duracion_lluvia             61\n",
      "fecha                      367\n",
      "hora                       144\n",
      "dtype: int64\n",
      "                 medición  presion_atomosferica  temperatura  \\\n",
      "19043 2020-05-12 06:00:00                991.53        -1.57   \n",
      "19044 2020-05-12 06:00:00                991.53        -1.57   \n",
      "\n",
      "       temperatura_potencial  humedad_relativa  presion_vapor  \\\n",
      "19043                 272.25              96.2           5.24   \n",
      "19044                 272.25              96.2           5.24   \n",
      "\n",
      "       humedad_especifica  concentracion_vapor  densidad_aire  \\\n",
      "19043                3.29                 5.28        1269.29   \n",
      "19044                3.29                 5.28        1269.29   \n",
      "\n",
      "       velocidad_viento  direccion_viento  precipitacion_total  \\\n",
      "19043              1.04             215.4                  0.0   \n",
      "19044              1.04             215.4                  0.0   \n",
      "\n",
      "       duracion_lluvia       fecha      hora  \n",
      "19043                0  2020-05-12  06:00:00  \n",
      "19044                0  2020-05-12  06:00:00  \n"
     ]
    }
   ],
   "source": [
    "#Determina la cantidad de valores únicos de cada columna\n",
    "\n",
    "print(df.nunique())\n",
    "\n",
    "#La columna medicion tiene un valor menos que el número total de filas del dataframe, lo que indica que hay una fecha duplicada. Identifica cuál es.\n",
    "\n",
    "\n",
    "duplicados=df[df['medición'].duplicated(keep=False)]\n",
    "print (duplicados)\n",
    "\n",
    "#19043 2020-12-05 06:00:00                991.53        -1.57 \n",
    "\n",
    "#elimina uno de los registros duplicados (por numero de ID)\n",
    "\n",
    "df.drop(19043,inplace=True)\n",
    "\n",
    "  "
   ]
  },
  {
   "cell_type": "markdown",
   "metadata": {
    "id": "T63TwtFUOuhC"
   },
   "source": [
    "4. Imprime nuevamente las cantidad de valores únicos por columna.\n",
    "- ¿Por qué son 144 horas diferentes?\n",
    "- La cantidad de combinaciones únicas de fecha y hora no coincide con el número total de mediciones. Aunque no haya valores NaN, esto no garantiza que no se hayan omitido registros. Identifica las fechas en las que faltan mediciones.\n",
    "- Una vez concluido el análisis de mediciones faltantes, elimina todos los registros que no correspondan al año 2020 y la columna `medicion`.\n"
   ]
  },
  {
   "cell_type": "code",
   "execution_count": 5,
   "metadata": {
    "id": "x9_WjJtH0Sc3"
   },
   "outputs": [
    {
     "name": "stdout",
     "output_type": "stream",
     "text": [
      "medición                 52695\n",
      "presion_atomosferica      5052\n",
      "temperatura               3680\n",
      "temperatura_potencial     3836\n",
      "humedad_relativa          5494\n",
      "presion_vapor             2059\n",
      "humedad_especifica        1337\n",
      "concentracion_vapor       2087\n",
      "densidad_aire            14826\n",
      "velocidad_viento           977\n",
      "direccion_viento          8099\n",
      "precipitacion_total         42\n",
      "duracion_lluvia             61\n",
      "fecha                      367\n",
      "hora                       144\n",
      "dtype: int64\n",
      "[datetime.time(0, 10) datetime.time(0, 20) datetime.time(0, 30)\n",
      " datetime.time(0, 40) datetime.time(0, 50) datetime.time(1, 0)\n",
      " datetime.time(1, 10) datetime.time(1, 20) datetime.time(1, 30)\n",
      " datetime.time(1, 40) datetime.time(1, 50) datetime.time(2, 0)\n",
      " datetime.time(2, 10) datetime.time(2, 20) datetime.time(2, 30)\n",
      " datetime.time(2, 40) datetime.time(2, 50) datetime.time(3, 0)\n",
      " datetime.time(3, 10) datetime.time(3, 20) datetime.time(3, 30)\n",
      " datetime.time(3, 40) datetime.time(3, 50) datetime.time(4, 0)\n",
      " datetime.time(4, 10) datetime.time(4, 20) datetime.time(4, 30)\n",
      " datetime.time(4, 40) datetime.time(4, 50) datetime.time(5, 0)\n",
      " datetime.time(5, 10) datetime.time(5, 20) datetime.time(5, 30)\n",
      " datetime.time(5, 40) datetime.time(5, 50) datetime.time(6, 0)\n",
      " datetime.time(6, 10) datetime.time(6, 20) datetime.time(6, 30)\n",
      " datetime.time(6, 40) datetime.time(6, 50) datetime.time(7, 0)\n",
      " datetime.time(7, 10) datetime.time(7, 20) datetime.time(7, 30)\n",
      " datetime.time(7, 40) datetime.time(7, 50) datetime.time(8, 0)\n",
      " datetime.time(8, 10) datetime.time(8, 20) datetime.time(8, 30)\n",
      " datetime.time(8, 40) datetime.time(8, 50) datetime.time(9, 0)\n",
      " datetime.time(9, 10) datetime.time(9, 20) datetime.time(9, 30)\n",
      " datetime.time(9, 40) datetime.time(9, 50) datetime.time(10, 0)\n",
      " datetime.time(10, 10) datetime.time(10, 20) datetime.time(10, 30)\n",
      " datetime.time(10, 40) datetime.time(10, 50) datetime.time(11, 0)\n",
      " datetime.time(11, 10) datetime.time(11, 20) datetime.time(11, 30)\n",
      " datetime.time(11, 40) datetime.time(11, 50) datetime.time(12, 0)\n",
      " datetime.time(12, 10) datetime.time(12, 20) datetime.time(12, 30)\n",
      " datetime.time(12, 40) datetime.time(12, 50) datetime.time(13, 0)\n",
      " datetime.time(13, 10) datetime.time(13, 20) datetime.time(13, 30)\n",
      " datetime.time(13, 40) datetime.time(13, 50) datetime.time(14, 0)\n",
      " datetime.time(14, 10) datetime.time(14, 20) datetime.time(14, 30)\n",
      " datetime.time(14, 40) datetime.time(14, 50) datetime.time(15, 0)\n",
      " datetime.time(15, 10) datetime.time(15, 20) datetime.time(15, 30)\n",
      " datetime.time(15, 40) datetime.time(15, 50) datetime.time(16, 0)\n",
      " datetime.time(16, 10) datetime.time(16, 20) datetime.time(16, 30)\n",
      " datetime.time(16, 40) datetime.time(16, 50) datetime.time(17, 0)\n",
      " datetime.time(17, 10) datetime.time(17, 20) datetime.time(17, 30)\n",
      " datetime.time(17, 40) datetime.time(17, 50) datetime.time(18, 0)\n",
      " datetime.time(18, 10) datetime.time(18, 20) datetime.time(18, 30)\n",
      " datetime.time(18, 40) datetime.time(18, 50) datetime.time(19, 0)\n",
      " datetime.time(19, 10) datetime.time(19, 20) datetime.time(19, 30)\n",
      " datetime.time(19, 40) datetime.time(19, 50) datetime.time(20, 0)\n",
      " datetime.time(20, 10) datetime.time(20, 20) datetime.time(20, 30)\n",
      " datetime.time(20, 40) datetime.time(20, 50) datetime.time(21, 0)\n",
      " datetime.time(21, 10) datetime.time(21, 20) datetime.time(21, 30)\n",
      " datetime.time(21, 40) datetime.time(21, 50) datetime.time(22, 0)\n",
      " datetime.time(22, 10) datetime.time(22, 20) datetime.time(22, 30)\n",
      " datetime.time(22, 40) datetime.time(22, 50) datetime.time(23, 0)\n",
      " datetime.time(23, 10) datetime.time(23, 20) datetime.time(23, 30)\n",
      " datetime.time(23, 40) datetime.time(23, 50) datetime.time(0, 0)]\n",
      "\n",
      "Se encontraron 10 mediciones faltantes.\n",
      "Fecha(s) con mediciones faltantes:\n",
      "- 2020-01-01\n",
      "- 2020-05-29\n",
      "\n",
      "Timestamps específicos faltantes:\n",
      "DatetimeIndex(['2020-01-01 00:00:00', '2020-05-29 09:40:00',\n",
      "               '2020-05-29 09:50:00', '2020-05-29 10:00:00',\n",
      "               '2020-05-29 10:10:00', '2020-05-29 10:20:00',\n",
      "               '2020-05-29 10:30:00', '2020-05-29 10:40:00',\n",
      "               '2020-05-29 10:50:00', '2020-05-29 11:00:00'],\n",
      "              dtype='datetime64[ns]', freq=None)\n"
     ]
    }
   ],
   "source": [
    "#¿Por qué son 144 horas diferentes?\n",
    "    #Intervalos de 10 minutos en un perido de 24 horas\n",
    "\n",
    "print (df.nunique())\n",
    "print (df[\"hora\"].unique())\n",
    "\n",
    "#Identifica las fechas en las que faltan mediciones.\n",
    "\n",
    "rango_esperado = pd.date_range(start='2020-01-01 00:00:00', end='2021-01-01 00:00:00', freq='10T')\n",
    "timestamps_faltantes = rango_esperado.difference(df['medición'])\n",
    "print(f\"\\nSe encontraron {len(timestamps_faltantes)} mediciones faltantes.\")\n",
    "if not timestamps_faltantes.empty:\n",
    "    print(\"Fecha(s) con mediciones faltantes:\")\n",
    "    fechas_faltantes = timestamps_faltantes.to_series().dt.date.unique()\n",
    "    for fecha in fechas_faltantes:\n",
    "        print(f\"- {fecha}\")\n",
    "    print(\"\\nTimestamps específicos faltantes:\")\n",
    "    print(timestamps_faltantes)\n",
    "\n",
    "    #elimina todos los registros que no correspondan al año 2020 y la columna medicion\n",
    "\n",
    "df=df[(df[\"medición\"]>=\"2020-01-01\")&(df[\"medición\"]<=\"2020-12-31\")]\n",
    "df.drop(columns=[\"medición\"],inplace=True)\n",
    "\n"
   ]
  },
  {
   "cell_type": "markdown",
   "metadata": {
    "id": "bO50wKFKXjz9"
   },
   "source": [
    "5. Obtén un dataframe `indicadores_diarios` que sólo almacene el mayor valor de las mediciones por fecha para responder:\n",
    "- ¿Cuál fue la máxima precipitación y a qué fecha pertenece?\n",
    "- ¿Cuáles fueron los tres días con las velocidades de viento más altas registradas?\n",
    "- ¿Cuántos días rebasaron el 90% de humedad relativa y los 30° celsius?"
   ]
  },
  {
   "cell_type": "code",
   "execution_count": 14,
   "metadata": {
    "id": "3HZRLD8_0UQx"
   },
   "outputs": [
    {
     "name": "stdout",
     "output_type": "stream",
     "text": [
      "\n",
      "Primeros 5 registros de indicadores diarios (valores máximos):\n",
      "        fecha  presion_atomosferica  temperatura  temperatura_potencial  \\\n",
      "0  2020-01-01               1008.89         4.58                 277.27   \n",
      "1  2020-01-02               1004.16         6.47                 279.72   \n",
      "2  2020-01-03                998.45         8.17                 281.80   \n",
      "3  2020-01-04               1003.47         6.61                 280.15   \n",
      "4  2020-01-05               1009.07         4.43                 277.01   \n",
      "\n",
      "   humedad_relativa  presion_vapor  humedad_especifica  concentracion_vapor  \\\n",
      "0              95.0           5.81                3.60                 5.77   \n",
      "1              93.9           5.57                3.48                 5.58   \n",
      "2              89.3           9.34                5.86                 9.39   \n",
      "3              91.4           8.54                5.36                 8.58   \n",
      "4              85.3           6.44                3.99                 6.40   \n",
      "\n",
      "   densidad_aire  velocidad_viento  direccion_viento  precipitacion_total  \\\n",
      "0        1298.02              1.91             356.9                  0.0   \n",
      "1        1304.37              2.67             358.8                  0.0   \n",
      "2        1266.97              8.79             336.5                  0.2   \n",
      "3        1270.10              4.61             354.7                  1.0   \n",
      "4        1275.47              3.14             274.6                  0.0   \n",
      "\n",
      "   duracion_lluvia      hora     celsius  \n",
      "0                0  23:50:00  136.261111  \n",
      "1                0  23:50:00  137.622222  \n",
      "2              470  23:50:00  138.777778  \n",
      "3              600  23:50:00  137.861111  \n",
      "4                0  23:50:00  136.116667  \n",
      "maxima_precipitacion=11.2fecha=2020-06-16\n",
      "5759    2020-02-10\n",
      "6758    2020-02-16\n",
      "5764    2020-02-10\n",
      "Name: fecha, dtype: object\n",
      "220\n"
     ]
    }
   ],
   "source": [
    "#Data frame indicadores\n",
    "\n",
    "indicadores_diarios = df.groupby(\"fecha\").max().reset_index()\n",
    "print(\"\\nPrimeros 5 registros de indicadores diarios (valores máximos):\")\n",
    "print(indicadores_diarios.head())\n",
    "\n",
    "#¿Cuál fue la máxima precipitación y a qué fecha pertenece?\n",
    "#maxima_precipitacion=11.2fecha=2020-06-16\n",
    "\n",
    "maxima_precipitacion=indicadores_diarios[\"precipitacion_total\"].max()\n",
    "fecha_maxprecipitacion=indicadores_diarios.loc[indicadores_diarios[\"precipitacion_total\"].idxmax(),\"fecha\"]\n",
    "print (f\"maxima_precipitacion={maxima_precipitacion}fecha={fecha_maxprecipitacion}\")\n",
    "\n",
    "#¿Cuáles fueron los tres días con las velocidades de viento más altas registradas?\n",
    "\n",
    "df_velocidadviento=df.sort_values(by=\"velocidad_viento\",ascending=False)\n",
    "print(df_velocidadviento[\"fecha\"].head(3))\n",
    "\n",
    "\n",
    "#5759    2020-02-10\n",
    "#6758    2020-02-16\n",
    "#5764    2020-02-10\n",
    "\n",
    "#¿Cuántos días rebasaron el 90% de humedad relativa y los 30° celsius?\n",
    "#220\n",
    "\n",
    "indicadores_diarios[\"celsius\"]=(indicadores_diarios[\"temperatura_potencial\"]-32)*5/9\n",
    "print(len(indicadores_diarios[(indicadores_diarios[\"humedad_relativa\"]>90)&(indicadores_diarios[\"celsius\"]>30)]))\n",
    "\n",
    "\n",
    "\n"
   ]
  },
  {
   "cell_type": "markdown",
   "metadata": {
    "id": "4qdgDVAHvGgK"
   },
   "source": [
    "6. La función `describe()` resume múltiples estadísticas descriptivas. Utiliza esta función para explorar y responder las preguntas sobre las variables en el dataframe de `indicadores_diarios `:\n",
    "- ¿Cuál es la desviación estándar de la concentración de vapor y qué indica?\n",
    "- ¿Cuál es la mediana de la presión atmosférica y qué significa?\n",
    "- ¿Cuál es el tercer cuartil de la duración de la lluvia y cómo se interpreta?"
   ]
  },
  {
   "cell_type": "code",
   "execution_count": 15,
   "metadata": {
    "id": "gOSuvVD50WX6"
   },
   "outputs": [
    {
     "name": "stdout",
     "output_type": "stream",
     "text": [
      "       presion_atomosferica  temperatura  temperatura_potencial  \\\n",
      "count            366.000000   366.000000             366.000000   \n",
      "mean             992.975902    15.339481             289.426858   \n",
      "std                8.546377     7.857292               7.949415   \n",
      "min              959.900000    -0.120000             273.460000   \n",
      "25%              988.015000     8.840000             282.732500   \n",
      "50%              993.300000    15.060000             289.160000   \n",
      "75%              998.432500    21.695000             295.957500   \n",
      "max             1020.070000    34.800000             309.130000   \n",
      "\n",
      "       humedad_relativa  presion_vapor  humedad_especifica  \\\n",
      "count        366.000000      366.00000          366.000000   \n",
      "mean          90.869044       11.40918            7.213852   \n",
      "std            9.200402        4.50787            2.872833   \n",
      "min           55.440000        3.32000            2.050000   \n",
      "25%           85.400000        7.64750            4.832500   \n",
      "50%           93.050000       10.71500            6.705000   \n",
      "75%           99.900000       14.46250            9.180000   \n",
      "max          100.000000       24.16000           15.400000   \n",
      "\n",
      "       concentracion_vapor  densidad_aire  velocidad_viento  direccion_viento  \\\n",
      "count           366.000000     366.000000        366.000000        366.000000   \n",
      "mean             11.538907    1232.596175          5.233743        317.283251   \n",
      "std               4.573578      32.693970          2.111811         51.442480   \n",
      "min               3.290000    1167.050000          0.430000         69.570000   \n",
      "25%               7.742500    1207.590000          3.660000        278.800000   \n",
      "50%              10.735000    1231.455000          4.880000        346.650000   \n",
      "75%              14.685000    1256.057500          6.495000        357.300000   \n",
      "max              24.530000    1318.520000         13.770000        360.000000   \n",
      "\n",
      "       precipitacion_total  duracion_lluvia     celsius  \n",
      "count           366.000000       366.000000  366.000000  \n",
      "mean              0.314208       240.382514  143.014921  \n",
      "std               0.979721       273.840002    4.416341  \n",
      "min               0.000000         0.000000  134.144444  \n",
      "25%               0.000000         0.000000  139.295833  \n",
      "50%               0.000000         0.000000  142.866667  \n",
      "75%               0.200000       600.000000  146.643056  \n",
      "max              11.200000       600.000000  153.961111  \n"
     ]
    }
   ],
   "source": [
    "#¿Cuál es la desviación estándar de la concentración de vapor y qué indica?\n",
    "#4.573578 indica que los valores se pueden desviar 4.5 pts sobre o debajo de la media\n",
    "\n",
    "#¿Cuál es la mediana de la presión atmosférica y qué significa?\n",
    "#993.300000 se refiere al valor que esta en medio de la relación de valores\n",
    "\n",
    "#¿Cuál es el tercer cuartil de la duración de la lluvia y cómo se interpreta?\n",
    "#600.000000 el 25% de las mediciones fueron mayores a 600\n",
    "\n",
    "print(indicadores_diarios.describe())"
   ]
  },
  {
   "cell_type": "markdown",
   "metadata": {
    "id": "Rki16hYaFd9p"
   },
   "source": [
    "7.\tDibuja un histograma para cada una de las columnas de `indicadores_diarios`."
   ]
  },
  {
   "cell_type": "code",
   "execution_count": 23,
   "metadata": {
    "id": "X-nU11fE0ZYX"
   },
   "outputs": [
    {
     "data": {
      "image/png": "[encoded data removed]",
      "text/plain": [
       "<Figure size 1800x500 with 16 Axes>"
      ]
     },
     "metadata": {},
     "output_type": "display_data"
    }
   ],
   "source": [
    "fechas_unicas=indicadores_diarios[\"fecha\"].unique()\n",
    "columnas=[\"presion_atomosferica\",\"temperatura\",\"temperatura_potencial\",\n",
    "          \"humedad_relativa\",\"presion_vapor\",\"humedad_especifica\",\"concentracion_vapor\",\n",
    "          \"densidad_aire\",\"velocidad_viento\",\"direccion_viento\",\"precipitacion_total\",\n",
    "          \"duracion_lluvia\",\"celsius\"]\n",
    "\n",
    "fig, axes = plt.subplots(4, 4, figsize=(18, 5))\n",
    "axes = axes.flatten()\n",
    "for i, col in enumerate (columnas):\n",
    "    axes[i].hist(indicadores_diarios[col], bins=5, edgecolor='black', alpha=0.7)\n",
    "    axes[i].set_title(f'Distribución de {col}')\n",
    "    axes[i].set_xlabel(col)\n",
    "    axes[i].set_ylabel('Frecuencia')\n",
    "\n",
    "\n",
    "plt.tight_layout(rect=[0, 0, 1, 0.96])\n",
    "plt.show()\n",
    "\n"
   ]
  },
  {
   "cell_type": "markdown",
   "metadata": {
    "id": "McMGuLYPpbR3"
   },
   "source": [
    "8. Utiliza el dataframe de indicadores diarios para crear un nuevo dataframe `indicadores_mensuales`. Para ello:\n",
    "- Crea una nueva columna `mes` a partir de la fecha que se encuentra en el índice.\n",
    "- Haciendo uso de `groupby()`, calcula los promedios mensuales y conserva únicamente las columnas `humedad_relativa`, `temperatura_celsius` y `velocidad_viento` en el nuevo dataframe."
   ]
  },
  {
   "cell_type": "code",
   "execution_count": 27,
   "metadata": {
    "id": "ESe0rIWi0a0R"
   },
   "outputs": [
    {
     "name": "stdout",
     "output_type": "stream",
     "text": [
      "          mes  humedad_relativa  temperatura_celsius  velocidad_viento\n",
      "0       April         80.938667           143.810370          4.997000\n",
      "1      August         92.002581           149.100717          5.040323\n",
      "2    December         97.304516           137.936559          4.682258\n",
      "3    February         85.719655           139.710728          7.489655\n",
      "4     January         89.776129           137.990323          5.031935\n",
      "5        July         85.959355           148.030466          4.830323\n",
      "6        June         94.256000           146.985370          5.296667\n",
      "7       March         85.372903           139.813082          6.421290\n",
      "8         May         87.464839           143.839068          4.865806\n",
      "9    November         96.983333           140.010370          4.399000\n",
      "10    October         96.950645           142.467025          5.675484\n",
      "11  September         97.570000           146.439074          4.153333\n"
     ]
    }
   ],
   "source": [
    "#nuevo dataframe indicadores_mensuales\n",
    "#Crea una nueva columna mes a partir de la fecha que se encuentra en el índice.\n",
    "Haciendo uso de groupby(), calcula los promedios mensuales y conserva únicamente las columnas humedad_relativa, temperatura_celsius y velocidad_viento en el nuevo dataframe. \n",
    "\n",
    "indicadores_diarios[\"fecha\"]=pd.to_datetime(indicadores_diarios[\"fecha\"])\n",
    "indicadores_diarios[\"mes\"]=indicadores_diarios[\"fecha\"].dt.strftime(\"%B\")\n",
    "\n",
    "indicadores_mensuales=indicadores_diarios.groupby(\"mes\").agg(\n",
    "    humedad_relativa=(\"humedad_relativa\",\"mean\"),\n",
    "    temperatura_celsius=(\"celsius\",\"mean\"),\n",
    "    velocidad_viento=(\"velocidad_viento\",\"mean\")).reset_index()\n",
    "\n",
    "print (indicadores_mensuales)\n",
    "\n"
   ]
  },
  {
   "cell_type": "markdown",
   "metadata": {
    "id": "Uziu5arvt2RS"
   },
   "source": [
    "9. Construye el mismo dataframe mensual, pero esta vez utilizando la función `pivot_table()`.\n",
    "- Añade la columna `indice_calor` usando la fórmula de Thom (*Temperature - Humidity Index*, TDI):\n",
    "> `temperatura_celsius + 0.33 x humedad_relativa - 0.7 x velocidad_viento - 4`"
   ]
  },
  {
   "cell_type": "code",
   "execution_count": 32,
   "metadata": {
    "id": "WrpNBdKw0cwx"
   },
   "outputs": [
    {
     "name": "stdout",
     "output_type": "stream",
     "text": [
      "          mes     celsius  humedad_relativa  velocidad_viento  indice_calor\n",
      "0       April  143.810370         80.938667          4.997000    163.022230\n",
      "1      August  149.100717         92.002581          5.040323    171.933343\n",
      "2    December  137.936559         97.304516          4.682258    162.769469\n",
      "3    February  139.710728         85.719655          7.489655    158.755456\n",
      "4     January  137.990323         89.776129          5.031935    160.094090\n",
      "5        July  148.030466         85.959355          4.830323    169.015827\n",
      "6        June  146.985370         94.256000          5.296667    170.382184\n",
      "7       March  139.813082         85.372903          6.421290    159.491237\n",
      "8         May  143.839068         87.464839          4.865806    165.296400\n",
      "9    November  140.010370         96.983333          4.399000    164.935570\n",
      "10    October  142.467025         96.950645          5.675484    166.487899\n",
      "11  September  146.439074         97.570000          4.153333    171.729841\n"
     ]
    }
   ],
   "source": [
    "#función pivot_table()\n",
    "#Añade la columna indice_calor usando la fórmula de Thom (Temperature - Humidity Index, TDI)\n",
    "\n",
    "indicadores_mensuales=pd.pivot_table(indicadores_diarios,index=\"mes\",values=[\"celsius\",\"humedad_relativa\",\n",
    "                                                                             \"velocidad_viento\"],\n",
    "                                     aggfunc=\"mean\").reset_index()\n",
    "indicadores_mensuales[\"indice_calor\"]=indicadores_mensuales[\"celsius\"]+0.33*indicadores_mensuales[\"humedad_relativa\"]-0.7*indicadores_mensuales[\"velocidad_viento\"]-4\n",
    "\n",
    "print(indicadores_mensuales)\n",
    "                                                                  \n",
    "\n"
   ]
  },
  {
   "cell_type": "markdown",
   "metadata": {
    "id": "jiG8DEytvWzP"
   },
   "source": [
    "10. Recuerda que de las cuatro funciones estudiadas para manipular la estructura del dataframe:\n",
    "- `melt/pivot` hacen las transformaciones de manera controlada, es decir puedes\n",
    "definir por medio de sus parámetros qué variables quedarán como índices, columnas y valores.\n",
    "- `stack/unstack` la conversión se aplica siempre sobre los niveles inferiores de index/columns.\n",
    "- Convierte el dataframe del ejercicio anterior a formato largo usando: `melt()` y `stack()` y comenta las diferencias."
   ]
  },
  {
   "cell_type": "code",
   "execution_count": 37,
   "metadata": {
    "id": "2vhLUp2g0d8k"
   },
   "outputs": [
    {
     "name": "stdout",
     "output_type": "stream",
     "text": [
      "          mes          variable       value\n",
      "0       April           celsius  143.810370\n",
      "1      August           celsius  149.100717\n",
      "2    December           celsius  137.936559\n",
      "3    February           celsius  139.710728\n",
      "4     January           celsius  137.990323\n",
      "5        July           celsius  148.030466\n",
      "6        June           celsius  146.985370\n",
      "7       March           celsius  139.813082\n",
      "8         May           celsius  143.839068\n",
      "9    November           celsius  140.010370\n",
      "10    October           celsius  142.467025\n",
      "11  September           celsius  146.439074\n",
      "12      April  humedad_relativa   80.938667\n",
      "13     August  humedad_relativa   92.002581\n",
      "14   December  humedad_relativa   97.304516\n",
      "15   February  humedad_relativa   85.719655\n",
      "16    January  humedad_relativa   89.776129\n",
      "17       July  humedad_relativa   85.959355\n",
      "18       June  humedad_relativa   94.256000\n",
      "19      March  humedad_relativa   85.372903\n",
      "20        May  humedad_relativa   87.464839\n",
      "21   November  humedad_relativa   96.983333\n",
      "22    October  humedad_relativa   96.950645\n",
      "23  September  humedad_relativa   97.570000\n",
      "0   mes                      April\n",
      "    celsius              143.81037\n",
      "    humedad_relativa     80.938667\n",
      "    velocidad_viento         4.997\n",
      "    indice_calor         163.02223\n",
      "1   mes                     August\n",
      "    celsius             149.100717\n",
      "    humedad_relativa     92.002581\n",
      "    velocidad_viento      5.040323\n",
      "    indice_calor        171.933343\n",
      "2   mes                   December\n",
      "    celsius             137.936559\n",
      "    humedad_relativa     97.304516\n",
      "    velocidad_viento      4.682258\n",
      "    indice_calor        162.769469\n",
      "3   mes                   February\n",
      "    celsius             139.710728\n",
      "    humedad_relativa     85.719655\n",
      "    velocidad_viento      7.489655\n",
      "    indice_calor        158.755456\n",
      "4   mes                    January\n",
      "    celsius             137.990323\n",
      "    humedad_relativa     89.776129\n",
      "    velocidad_viento      5.031935\n",
      "    indice_calor         160.09409\n",
      "5   mes                       July\n",
      "    celsius             148.030466\n",
      "    humedad_relativa     85.959355\n",
      "    velocidad_viento      4.830323\n",
      "    indice_calor        169.015827\n",
      "6   mes                       June\n",
      "    celsius              146.98537\n",
      "    humedad_relativa        94.256\n",
      "    velocidad_viento      5.296667\n",
      "    indice_calor        170.382184\n",
      "7   mes                      March\n",
      "    celsius             139.813082\n",
      "    humedad_relativa     85.372903\n",
      "    velocidad_viento       6.42129\n",
      "    indice_calor        159.491237\n",
      "8   mes                        May\n",
      "    celsius             143.839068\n",
      "    humedad_relativa     87.464839\n",
      "    velocidad_viento      4.865806\n",
      "    indice_calor          165.2964\n",
      "9   mes                   November\n",
      "    celsius              140.01037\n",
      "    humedad_relativa     96.983333\n",
      "    velocidad_viento         4.399\n",
      "    indice_calor         164.93557\n",
      "10  mes                    October\n",
      "    celsius             142.467025\n",
      "    humedad_relativa     96.950645\n",
      "    velocidad_viento      5.675484\n",
      "    indice_calor        166.487899\n",
      "11  mes                  September\n",
      "    celsius             146.439074\n",
      "    humedad_relativa         97.57\n",
      "    velocidad_viento      4.153333\n",
      "    indice_calor        171.729841\n",
      "dtype: object\n"
     ]
    }
   ],
   "source": [
    "#Convierte el dataframe del ejercicio anterior a formato largo usando: melt() y stack() y comenta las diferencias.\n",
    "\n",
    "#melt\n",
    "\n",
    "print(pd.melt(indicadores_mensuales,id_vars=[\"mes\"],value_vars=[\"celsius\",\"humedad_relativa\"]))\n",
    "\n",
    "#stack\n",
    "\n",
    "print(indicadores_mensuales.stack())\n",
    "\n",
    "#Con melt se muestran los resultados en forma vertical como una transposición de datos, stack genera una especie\n",
    "#de niveles internos o multinivel\n",
    "\n"
   ]
  }
 ],
 "metadata": {
  "colab": {
   "provenance": []
  },
  "kernelspec": {
   "display_name": "anaconda-panel-2023.05-py310",
   "language": "python",
   "name": "conda-env-anaconda-panel-2023.05-py310-py"
  },
  "language_info": {
   "codemirror_mode": {
    "name": "ipython",
    "version": 3
   },
   "file_extension": ".py",
   "mimetype": "text/x-python",
   "name": "python",
   "nbconvert_exporter": "python",
   "pygments_lexer": "ipython3",
   "version": "3.11.5"
  }
 },
 "nbformat": 4,
 "nbformat_minor": 4
}
